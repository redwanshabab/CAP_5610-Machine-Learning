{
 "cells": [
  {
   "cell_type": "code",
   "execution_count": 4,
   "metadata": {},
   "outputs": [],
   "source": [
    "# Importing necessary packages\n",
    "from surprise import SVD\n",
    "from surprise import NMF\n",
    "from surprise import Dataset\n",
    "from surprise.model_selection import cross_validate\n",
    "import os\n",
    "from surprise import Reader\n",
    "from surprise import KNNBasic\n",
    "import numpy as np\n",
    "import pandas as pd\n",
    "import seaborn as sns\n",
    "import matplotlib \n",
    "%matplotlib inline"
   ]
  },
  {
   "cell_type": "code",
   "execution_count": 6,
   "metadata": {},
   "outputs": [],
   "source": [
    "#load data from a file \n",
    "file_path = os.path.expanduser(r'C:\\Users\\redwi\\Downloads\\Spring 20\\CAP ML\\hw7\\restaurant_ratings.txt')\n",
    "reader = Reader(line_format='user item rating timestamp', sep='\\t')"
   ]
  },
  {
   "cell_type": "code",
   "execution_count": 10,
   "metadata": {},
   "outputs": [],
   "source": [
    "# Question 5. SVD\n",
    "data = Dataset.load_from_file(file_path, reader=reader)"
   ]
  },
  {
   "cell_type": "code",
   "execution_count": 12,
   "metadata": {},
   "outputs": [
    {
     "name": "stdout",
     "output_type": "stream",
     "text": [
      "Evaluating RMSE, MAE of algorithm SVD on 3 split(s).\n",
      "\n",
      "                  Fold 1  Fold 2  Fold 3  Mean    Std     \n",
      "RMSE (testset)    0.9473  0.9459  0.9480  0.9470  0.0009  \n",
      "MAE (testset)     0.7462  0.7488  0.7485  0.7478  0.0011  \n",
      "Fit time          8.48    8.18    8.37    8.34    0.12    \n",
      "Test time         0.40    0.47    0.41    0.43    0.03    \n"
     ]
    },
    {
     "data": {
      "text/plain": [
       "{'test_rmse': array([0.94727911, 0.94589474, 0.94795472]),\n",
       " 'test_mae': array([0.74618735, 0.74875134, 0.7484727 ]),\n",
       " 'fit_time': (8.47551703453064, 8.178913831710815, 8.371682167053223),\n",
       " 'test_time': (0.3980724811553955, 0.4698467254638672, 0.40837860107421875)}"
      ]
     },
     "execution_count": 12,
     "metadata": {},
     "output_type": "execute_result"
    }
   ],
   "source": [
    "# Use the famous SVD algorithm\n",
    "algo = SVD()\n",
    "\n",
    "# Run 3-fold cross-validation and then print results\n",
    "cross_validate(algo, data, measures=['RMSE', 'MAE'], cv=3, verbose=True)"
   ]
  },
  {
   "cell_type": "code",
   "execution_count": 13,
   "metadata": {},
   "outputs": [
    {
     "name": "stdout",
     "output_type": "stream",
     "text": [
      "Evaluating RMSE, MAE of algorithm SVD on 3 split(s).\n",
      "\n",
      "                  Fold 1  Fold 2  Fold 3  Mean    Std     \n",
      "RMSE (testset)    0.9744  0.9572  0.9664  0.9660  0.0070  \n",
      "MAE (testset)     0.7669  0.7555  0.7623  0.7615  0.0047  \n",
      "Fit time          8.57    8.56    8.58    8.57    0.01    \n",
      "Test time         0.40    0.42    0.42    0.41    0.01    \n"
     ]
    },
    {
     "data": {
      "text/plain": [
       "{'test_rmse': array([0.97436673, 0.95724902, 0.96637394]),\n",
       " 'test_mae': array([0.76687659, 0.75546463, 0.76225714]),\n",
       " 'fit_time': (8.568732738494873, 8.564092874526978, 8.583683967590332),\n",
       " 'test_time': (0.3969542980194092, 0.42497873306274414, 0.4176046848297119)}"
      ]
     },
     "execution_count": 13,
     "metadata": {},
     "output_type": "execute_result"
    }
   ],
   "source": [
    "# Use the famous SVD algorithm\n",
    "algo = SVD(biased=False)\n",
    "\n",
    "# Run 3-fold cross-validation and then print results\n",
    "cross_validate(algo, data, measures=['RMSE', 'MAE'], cv=3, verbose=True)"
   ]
  },
  {
   "cell_type": "code",
   "execution_count": 15,
   "metadata": {},
   "outputs": [
    {
     "name": "stdout",
     "output_type": "stream",
     "text": [
      "Evaluating RMSE, MAE of algorithm NMF on 3 split(s).\n",
      "\n",
      "                  Fold 1  Fold 2  Fold 3  Mean    Std     \n",
      "RMSE (testset)    0.9724  0.9732  0.9745  0.9734  0.0009  \n",
      "MAE (testset)     0.7636  0.7644  0.7660  0.7647  0.0010  \n",
      "Fit time          8.09    8.41    5.79    7.43    1.17    \n",
      "Test time         0.40    0.40    0.14    0.31    0.12    \n"
     ]
    },
    {
     "data": {
      "text/plain": [
       "{'test_rmse': array([0.97243824, 0.9731753 , 0.97454294]),\n",
       " 'test_mae': array([0.76359585, 0.76439943, 0.76602563]),\n",
       " 'fit_time': (8.086310863494873, 8.410938262939453, 5.7905519008636475),\n",
       " 'test_time': (0.39962172508239746, 0.39621686935424805, 0.1376328468322754)}"
      ]
     },
     "execution_count": 15,
     "metadata": {},
     "output_type": "execute_result"
    }
   ],
   "source": [
    "algo = NMF()\n",
    "# Run 3-fold cross-validation and then print results\n",
    "cross_validate(algo, data, measures=['RMSE', 'MAE'], cv=3,verbose=True)"
   ]
  },
  {
   "cell_type": "code",
   "execution_count": 16,
   "metadata": {},
   "outputs": [
    {
     "name": "stdout",
     "output_type": "stream",
     "text": [
      "Computing the msd similarity matrix...\n",
      "Done computing similarity matrix.\n",
      "Computing the msd similarity matrix...\n",
      "Done computing similarity matrix.\n",
      "Computing the msd similarity matrix...\n",
      "Done computing similarity matrix.\n",
      "Evaluating RMSE, MAE of algorithm KNNBasic on 3 split(s).\n",
      "\n",
      "                  Fold 1  Fold 2  Fold 3  Mean    Std     \n",
      "RMSE (testset)    0.9873  0.9873  0.9897  0.9881  0.0011  \n",
      "MAE (testset)     0.7803  0.7792  0.7828  0.7808  0.0015  \n",
      "Fit time          0.28    0.34    0.30    0.31    0.02    \n",
      "Test time         4.23    4.31    3.98    4.17    0.14    \n"
     ]
    },
    {
     "data": {
      "text/plain": [
       "{'test_rmse': array([0.98734694, 0.98731881, 0.98974277]),\n",
       " 'test_mae': array([0.78030971, 0.77916159, 0.78283401]),\n",
       " 'fit_time': (0.28118395805358887, 0.33932924270629883, 0.29965996742248535),\n",
       " 'test_time': (4.226276636123657, 4.3080127239227295, 3.9803295135498047)}"
      ]
     },
     "execution_count": 16,
     "metadata": {},
     "output_type": "execute_result"
    }
   ],
   "source": [
    "# Question 8. User based collaborative filtering\n",
    "algo = KNNBasic(sim_options = {\n",
    "        'user_based': True \n",
    "        })\n",
    "# Run 3-fold cross-validation and then print results\n",
    "cross_validate(algo, data, measures=['RMSE', 'MAE'], cv=3,verbose=True)"
   ]
  },
  {
   "cell_type": "code",
   "execution_count": 17,
   "metadata": {},
   "outputs": [
    {
     "name": "stdout",
     "output_type": "stream",
     "text": [
      "Computing the msd similarity matrix...\n",
      "Done computing similarity matrix.\n",
      "Computing the msd similarity matrix...\n",
      "Done computing similarity matrix.\n",
      "Computing the msd similarity matrix...\n",
      "Done computing similarity matrix.\n",
      "Evaluating RMSE, MAE of algorithm KNNBasic on 3 split(s).\n",
      "\n",
      "                  Fold 1  Fold 2  Fold 3  Mean    Std     \n",
      "RMSE (testset)    0.9836  0.9887  0.9844  0.9856  0.0022  \n",
      "MAE (testset)     0.7781  0.7837  0.7796  0.7805  0.0024  \n",
      "Fit time          0.42    0.41    0.42    0.42    0.00    \n",
      "Test time         4.88    4.56    4.28    4.58    0.24    \n"
     ]
    },
    {
     "data": {
      "text/plain": [
       "{'test_rmse': array([0.98361683, 0.98870485, 0.98444134]),\n",
       " 'test_mae': array([0.77809766, 0.78371876, 0.77958681]),\n",
       " 'fit_time': (0.42499470710754395, 0.41377758979797363, 0.4217264652252197),\n",
       " 'test_time': (4.878779411315918, 4.564335107803345, 4.283874750137329)}"
      ]
     },
     "execution_count": 17,
     "metadata": {},
     "output_type": "execute_result"
    }
   ],
   "source": [
    "# Question 9. Item based collaborative filtering\n",
    "algo = KNNBasic(sim_options = {\n",
    "                'user_based': False \n",
    "                })\n",
    "# Run 3-fold cross-validation and then print results\n",
    "cross_validate(algo, data, measures=['RMSE', 'MAE'], cv=3,verbose=True)"
   ]
  },
  {
   "cell_type": "code",
   "execution_count": 20,
   "metadata": {},
   "outputs": [
    {
     "name": "stdout",
     "output_type": "stream",
     "text": [
      "Evaluating RMSE, MAE of algorithm SVD on 3 split(s).\n",
      "\n",
      "                  Fold 1  Fold 2  Fold 3  Mean    Std     \n",
      "RMSE (testset)    0.9448  0.9427  0.9464  0.9446  0.0015  \n",
      "MAE (testset)     0.7478  0.7439  0.7459  0.7458  0.0016  \n",
      "Fit time          3.34    3.30    3.34    3.33    0.02    \n",
      "Test time         0.22    0.21    0.16    0.19    0.03    \n",
      "{'test_rmse': array([0.9447976 , 0.94266057, 0.94636334]), 'test_mae': array([0.7477723 , 0.74391612, 0.74586048]), 'fit_time': (3.3413548469543457, 3.29594349861145, 3.3438758850097656), 'test_time': (0.21564269065856934, 0.21240615844726562, 0.1552882194519043)}\n",
      "Evaluating RMSE, MAE of algorithm SVD on 3 split(s).\n",
      "\n",
      "                  Fold 1  Fold 2  Fold 3  Mean    Std     \n",
      "RMSE (testset)    0.9559  0.9704  0.9758  0.9674  0.0084  \n",
      "MAE (testset)     0.7531  0.7663  0.7700  0.7631  0.0073  \n",
      "Fit time          3.40    3.34    3.32    3.35    0.03    \n",
      "Test time         0.19    0.15    0.16    0.17    0.02    \n",
      "{'test_rmse': array([0.95589044, 0.97036354, 0.97580334]), 'test_mae': array([0.75309933, 0.76634352, 0.76999321]), 'fit_time': (3.3955061435699463, 3.344090700149536, 3.3240227699279785), 'test_time': (0.19038844108581543, 0.14699316024780273, 0.1592726707458496)}\n",
      "Evaluating RMSE, MAE of algorithm NMF on 3 split(s).\n",
      "\n",
      "                  Fold 1  Fold 2  Fold 3  Mean    Std     \n",
      "RMSE (testset)    0.9738  0.9762  0.9789  0.9763  0.0021  \n",
      "MAE (testset)     0.7648  0.7649  0.7711  0.7670  0.0029  \n",
      "Fit time          3.38    3.58    3.93    3.63    0.23    \n",
      "Test time         0.18    0.17    0.23    0.19    0.03    \n",
      "{'test_rmse': array([0.97375326, 0.97623328, 0.97893719]), 'test_mae': array([0.76482881, 0.76491436, 0.77112602]), 'fit_time': (3.3847951889038086, 3.577369213104248, 3.9338369369506836), 'test_time': (0.17813849449157715, 0.171830415725708, 0.23237919807434082)}\n",
      "Computing the msd similarity matrix...\n",
      "Done computing similarity matrix.\n",
      "Computing the msd similarity matrix...\n",
      "Done computing similarity matrix.\n",
      "Computing the msd similarity matrix...\n",
      "Done computing similarity matrix.\n",
      "Evaluating RMSE, MAE of algorithm KNNBasic on 3 split(s).\n",
      "\n",
      "                  Fold 1  Fold 2  Fold 3  Mean    Std     \n",
      "RMSE (testset)    0.9782  0.9918  0.9962  0.9887  0.0077  \n",
      "MAE (testset)     0.7735  0.7841  0.7862  0.7813  0.0056  \n",
      "Fit time          0.35    0.28    0.28    0.30    0.03    \n",
      "Test time         3.76    3.89    3.71    3.79    0.07    \n",
      "{'test_rmse': array([0.97819428, 0.99177853, 0.99616999]), 'test_mae': array([0.77349015, 0.78406955, 0.78620559]), 'fit_time': (0.3500239849090576, 0.2811870574951172, 0.28118205070495605), 'test_time': (3.7632100582122803, 3.885822057723999, 3.713409423828125)}\n",
      "Computing the msd similarity matrix...\n",
      "Done computing similarity matrix.\n",
      "Computing the msd similarity matrix...\n",
      "Done computing similarity matrix.\n",
      "Computing the msd similarity matrix...\n",
      "Done computing similarity matrix.\n",
      "Evaluating RMSE, MAE of algorithm KNNBasic on 3 split(s).\n",
      "\n",
      "                  Fold 1  Fold 2  Fold 3  Mean    Std     \n",
      "RMSE (testset)    0.9839  0.9851  0.9872  0.9854  0.0014  \n",
      "MAE (testset)     0.7781  0.7803  0.7830  0.7805  0.0020  \n",
      "Fit time          0.41    0.41    0.44    0.42    0.02    \n",
      "Test time         4.21    4.26    4.38    4.28    0.07    \n",
      "{'test_rmse': array([0.98388571, 0.98510642, 0.98719438]), 'test_mae': array([0.77810125, 0.78033001, 0.78296829]), 'fit_time': (0.4061160087585449, 0.40611958503723145, 0.43949294090270996), 'test_time': (4.207146406173706, 4.259572505950928, 4.376302719116211)}\n"
     ]
    }
   ],
   "source": [
    "data = Dataset.load_from_file(file_path, reader=reader)\n",
    "# Use the famous SVD algorithm\n",
    "algo = SVD()\n",
    "\n",
    "# Run 3-fold cross-validation and then print results\n",
    "perf_SVD=cross_validate(algo, data, measures=['RMSE', 'MAE'], cv=3, verbose=True)\n",
    "print(perf_SVD)\n",
    "\n",
    "# Use the famous PMF algorithm\n",
    "algo = SVD(biased=False)\n",
    "\n",
    "# Run 3-fold cross-validation and then print results\n",
    "perf_PMF=cross_validate(algo, data, measures=['RMSE', 'MAE'], cv=3, verbose=True)\n",
    "print(perf_PMF)\n",
    "\n",
    "# Use the famous NMF algorithm\n",
    "algo = NMF()\n",
    "# Run 3-fold cross-validation and then print results\n",
    "perf_NMF=cross_validate(algo, data, measures=['RMSE', 'MAE'], cv=3,verbose=True)\n",
    "print(perf_NMF)\n",
    "#User-based collaborative filtering\n",
    "algo = KNNBasic(sim_options = {\n",
    "        'user_based': True \n",
    "        })\n",
    "# Run 3-fold cross-validation and then print results\n",
    "perf_UserBased=cross_validate(algo, data, measures=['RMSE', 'MAE'], cv=3,verbose=True)\n",
    "print(perf_UserBased)\n",
    "#Item-based collaborative filtering\n",
    "algo = KNNBasic(sim_options = {\n",
    "                'user_based': False \n",
    "                })\n",
    "# Run 3-fold cross-validation and then print results\n",
    "perf_ItemBased=cross_validate(algo, data, measures=['RMSE', 'MAE'], cv=3,verbose=True)\n",
    "print(perf_ItemBased)"
   ]
  },
  {
   "cell_type": "code",
   "execution_count": 21,
   "metadata": {},
   "outputs": [
    {
     "name": "stdout",
     "output_type": "stream",
     "text": [
      "{'test_rmse': array([0.97819428, 0.99177853, 0.99616999]), 'test_mae': array([0.77349015, 0.78406955, 0.78620559]), 'fit_time': (0.3500239849090576, 0.2811870574951172, 0.28118205070495605), 'test_time': (3.7632100582122803, 3.885822057723999, 3.713409423828125)}\n",
      "{'test_rmse': array([0.98388571, 0.98510642, 0.98719438]), 'test_mae': array([0.77810125, 0.78033001, 0.78296829]), 'fit_time': (0.4061160087585449, 0.40611958503723145, 0.43949294090270996), 'test_time': (4.207146406173706, 4.259572505950928, 4.376302719116211)}\n",
      "{'test_rmse': array([0.9447976 , 0.94266057, 0.94636334]), 'test_mae': array([0.7477723 , 0.74391612, 0.74586048]), 'fit_time': (3.3413548469543457, 3.29594349861145, 3.3438758850097656), 'test_time': (0.21564269065856934, 0.21240615844726562, 0.1552882194519043)}\n",
      "{'test_rmse': array([0.95589044, 0.97036354, 0.97580334]), 'test_mae': array([0.75309933, 0.76634352, 0.76999321]), 'fit_time': (3.3955061435699463, 3.344090700149536, 3.3240227699279785), 'test_time': (0.19038844108581543, 0.14699316024780273, 0.1592726707458496)}\n",
      "{'test_rmse': array([0.97375326, 0.97623328, 0.97893719]), 'test_mae': array([0.76482881, 0.76491436, 0.77112602]), 'fit_time': (3.3847951889038086, 3.577369213104248, 3.9338369369506836), 'test_time': (0.17813849449157715, 0.171830415725708, 0.23237919807434082)}\n"
     ]
    }
   ],
   "source": [
    "# Question 10-13. Printing the performance evaluation for all 3 folds and mean\n",
    "print(perf_UserBased)\n",
    "print(perf_ItemBased)\n",
    "print(perf_SVD)\n",
    "print(perf_PMF)\n",
    "print(perf_NMF)"
   ]
  },
  {
   "cell_type": "code",
   "execution_count": 22,
   "metadata": {},
   "outputs": [
    {
     "name": "stdout",
     "output_type": "stream",
     "text": [
      "Computing the msd similarity matrix...\n",
      "Done computing similarity matrix.\n",
      "Computing the msd similarity matrix...\n",
      "Done computing similarity matrix.\n",
      "Computing the msd similarity matrix...\n",
      "Done computing similarity matrix.\n",
      "Evaluating RMSE, MAE of algorithm KNNBasic on 3 split(s).\n",
      "\n",
      "                  Fold 1  Fold 2  Fold 3  Mean    Std     \n",
      "RMSE (testset)    0.9882  0.9847  0.9943  0.9891  0.0040  \n",
      "MAE (testset)     0.7814  0.7781  0.7859  0.7818  0.0032  \n",
      "Fit time          0.27    0.36    0.28    0.30    0.04    \n",
      "Test time         4.23    4.44    3.93    4.20    0.21    \n",
      "{'test_rmse': array([0.98820198, 0.9847426 , 0.99433418]), 'test_mae': array([0.78138626, 0.77808226, 0.78588536]), 'fit_time': (0.26560449600219727, 0.3631770610809326, 0.2811777591705322), 'test_time': (4.226865291595459, 4.441079378128052, 3.9344542026519775)}\n",
      "Computing the cosine similarity matrix...\n",
      "Done computing similarity matrix.\n",
      "Computing the cosine similarity matrix...\n",
      "Done computing similarity matrix.\n",
      "Computing the cosine similarity matrix...\n",
      "Done computing similarity matrix.\n",
      "Evaluating RMSE, MAE of algorithm KNNBasic on 3 split(s).\n",
      "\n",
      "                  Fold 1  Fold 2  Fold 3  Mean    Std     \n",
      "RMSE (testset)    1.0227  1.0161  1.0242  1.0210  0.0036  \n",
      "MAE (testset)     0.8093  0.8040  0.8123  0.8086  0.0035  \n",
      "Fit time          1.02    1.09    1.10    1.07    0.04    \n",
      "Test time         3.67    4.45    4.20    4.11    0.33    \n",
      "{'test_rmse': array([1.02272307, 1.0160504 , 1.02424255]), 'test_mae': array([0.80934986, 0.80399102, 0.81234863]), 'fit_time': (1.0153441429138184, 1.090815544128418, 1.104933738708496), 'test_time': (3.6690356731414795, 4.449601888656616, 4.202205657958984)}\n",
      "Computing the pearson similarity matrix...\n",
      "Done computing similarity matrix.\n",
      "Computing the pearson similarity matrix...\n",
      "Done computing similarity matrix.\n",
      "Computing the pearson similarity matrix...\n",
      "Done computing similarity matrix.\n",
      "Evaluating RMSE, MAE of algorithm KNNBasic on 3 split(s).\n",
      "\n",
      "                  Fold 1  Fold 2  Fold 3  Mean    Std     \n",
      "RMSE (testset)    1.0155  1.0198  1.0233  1.0195  0.0032  \n",
      "MAE (testset)     0.8060  0.8102  0.8105  0.8089  0.0021  \n",
      "Fit time          1.40    1.40    1.37    1.39    0.01    \n",
      "Test time         3.97    4.14    4.26    4.12    0.12    \n",
      "{'test_rmse': array([1.01551662, 1.01977592, 1.02330902]), 'test_mae': array([0.80597306, 0.81021796, 0.81047444]), 'fit_time': (1.3994379043579102, 1.4039034843444824, 1.3726112842559814), 'test_time': (3.9677021503448486, 4.139431715011597, 4.263155698776245)}\n"
     ]
    }
   ],
   "source": [
    "# Question 14\n",
    "#User-based collaborative filtering. MSD\n",
    "algo = KNNBasic(sim_options = {\n",
    "        'name': 'MSD',\n",
    "        'user_based': True \n",
    "        })\n",
    "perf_UserBased_MSD = cross_validate(algo, data, measures=['RMSE', 'MAE'], cv=3,verbose=True)\n",
    "print(perf_UserBased_MSD)\n",
    "\n",
    "#User-based collaborative filtering. Cosine\n",
    "algo = KNNBasic(sim_options = {\n",
    "        'name': 'cosine',\n",
    "        'user_based': True \n",
    "        })\n",
    "perf_UserBased_cosine = cross_validate(algo, data, measures=['RMSE', 'MAE'], cv=3,verbose=True)\n",
    "print(perf_UserBased_cosine)\n",
    "\n",
    "#User-based collaborative filtering. Pearson.\n",
    "algo = KNNBasic(sim_options = {\n",
    "        'name': 'pearson',\n",
    "        'user_based': True \n",
    "        })\n",
    "perf_UserBased_pearson = cross_validate(algo, data, measures=['RMSE', 'MAE'], cv=3,verbose=True)\n",
    "print(perf_UserBased_pearson)"
   ]
  },
  {
   "cell_type": "code",
   "execution_count": 26,
   "metadata": {},
   "outputs": [
    {
     "ename": "KeyError",
     "evalue": "'mae'",
     "output_type": "error",
     "traceback": [
      "\u001b[1;31m---------------------------------------------------------------------------\u001b[0m",
      "\u001b[1;31mKeyError\u001b[0m                                  Traceback (most recent call last)",
      "\u001b[1;32m<ipython-input-26-e28df1c4b6fc>\u001b[0m in \u001b[0;36m<module>\u001b[1;34m\u001b[0m\n\u001b[1;32m----> 1\u001b[1;33m \u001b[0mvals\u001b[0m \u001b[1;33m=\u001b[0m \u001b[1;33m[\u001b[0m\u001b[0mnp\u001b[0m\u001b[1;33m.\u001b[0m\u001b[0mmean\u001b[0m\u001b[1;33m(\u001b[0m\u001b[0mperf_UserBased_MSD\u001b[0m\u001b[1;33m[\u001b[0m\u001b[1;34m'mae'\u001b[0m\u001b[1;33m]\u001b[0m\u001b[1;33m)\u001b[0m\u001b[1;33m,\u001b[0m \u001b[0mnp\u001b[0m\u001b[1;33m.\u001b[0m\u001b[0mmean\u001b[0m\u001b[1;33m(\u001b[0m\u001b[0mperf_UserBased_cosine\u001b[0m\u001b[1;33m[\u001b[0m\u001b[1;34m'mae'\u001b[0m\u001b[1;33m]\u001b[0m\u001b[1;33m)\u001b[0m\u001b[1;33m,\u001b[0m \u001b[0mnp\u001b[0m\u001b[1;33m.\u001b[0m\u001b[0mmean\u001b[0m\u001b[1;33m(\u001b[0m\u001b[0mperf_UserBased_pearson\u001b[0m\u001b[1;33m[\u001b[0m\u001b[1;34m'mae'\u001b[0m\u001b[1;33m]\u001b[0m\u001b[1;33m)\u001b[0m\u001b[1;33m]\u001b[0m\u001b[1;33m\u001b[0m\u001b[1;33m\u001b[0m\u001b[0m\n\u001b[0m\u001b[0;32m      2\u001b[0m \u001b[0mmetrics\u001b[0m \u001b[1;33m=\u001b[0m \u001b[0mnp\u001b[0m\u001b[1;33m.\u001b[0m\u001b[0marray\u001b[0m\u001b[1;33m(\u001b[0m\u001b[1;33m[\u001b[0m\u001b[1;34m'MSD'\u001b[0m\u001b[1;33m,\u001b[0m \u001b[1;34m'cosine'\u001b[0m\u001b[1;33m,\u001b[0m \u001b[1;34m'pearson'\u001b[0m\u001b[1;33m]\u001b[0m\u001b[1;33m)\u001b[0m\u001b[1;33m\u001b[0m\u001b[1;33m\u001b[0m\u001b[0m\n\u001b[0;32m      3\u001b[0m \u001b[0mseries\u001b[0m \u001b[1;33m=\u001b[0m \u001b[0mpd\u001b[0m\u001b[1;33m.\u001b[0m\u001b[0mSeries\u001b[0m\u001b[1;33m(\u001b[0m\u001b[0mname\u001b[0m\u001b[1;33m=\u001b[0m\u001b[1;34m'MAE'\u001b[0m\u001b[1;33m,\u001b[0m \u001b[0mdata\u001b[0m\u001b[1;33m=\u001b[0m\u001b[0mvals\u001b[0m\u001b[1;33m)\u001b[0m\u001b[1;33m\u001b[0m\u001b[1;33m\u001b[0m\u001b[0m\n\u001b[0;32m      4\u001b[0m \u001b[0max\u001b[0m \u001b[1;33m=\u001b[0m \u001b[0msns\u001b[0m\u001b[1;33m.\u001b[0m\u001b[0mbarplot\u001b[0m\u001b[1;33m(\u001b[0m\u001b[0mmetrics\u001b[0m\u001b[1;33m,\u001b[0m \u001b[0mseries\u001b[0m\u001b[1;33m.\u001b[0m\u001b[0mvalues\u001b[0m\u001b[1;33m)\u001b[0m\u001b[1;33m\u001b[0m\u001b[1;33m\u001b[0m\u001b[0m\n\u001b[0;32m      5\u001b[0m \u001b[0max\u001b[0m\u001b[1;33m.\u001b[0m\u001b[0mset_title\u001b[0m\u001b[1;33m(\u001b[0m\u001b[1;34m\"Similarity Metrics Comparison: User Based- MAE\"\u001b[0m\u001b[1;33m)\u001b[0m\u001b[1;33m\u001b[0m\u001b[1;33m\u001b[0m\u001b[0m\n",
      "\u001b[1;31mKeyError\u001b[0m: 'mae'"
     ]
    }
   ],
   "source": [
    "vals = [np.mean(perf_UserBased_MSD['mae']), np.mean(perf_UserBased_cosine['mae']), np.mean(perf_UserBased_pearson['mae'])]\n",
    "metrics = np.array(['MSD', 'cosine', 'pearson'])\n",
    "series = pd.Series(name='MAE', data=vals)\n",
    "ax = sns.barplot(metrics, series.values)\n",
    "ax.set_title(\"Similarity Metrics Comparison: User Based- MAE\")\n",
    "ax.set_ylabel('MAE values')\n",
    "ax.set_xlabel('Metrics')\n",
    "ax.set_ylim(.7, 0.9)\n",
    "plt.show()\n",
    "print(vals)\n",
    "\n",
    "vals = [np.mean(perf_UserBased_MSD['rmse']), np.mean(perf_UserBased_cosine['rmse']), np.mean(perf_UserBased_pearson['rmse'])]\n",
    "metrics = np.array(['MSD', 'cosine', 'pearson'])\n",
    "series = pd.Series(name='MAE', data=vals)\n",
    "ax = sns.barplot(metrics, series.values)\n",
    "ax.set_title(\"Similarity Metrics Comparison: User Based- RMSE\")\n",
    "ax.set_ylabel('MAE values')\n",
    "ax.set_xlabel('Metrics')\n",
    "ax.set_ylim(.9,1.1)\n",
    "plt.show()\n",
    "print(vals)\n",
    "\n",
    "vals = [np.mean(perf_ItemBased_MSD['mae']), np.mean(perf_ItemBased_cosine['mae']), np.mean(perf_ItemBased_pearson['mae'])]\n",
    "metrics = np.array(['MSD', 'cosine', 'pearson'])\n",
    "series = pd.Series(name='MAE', data=vals)\n",
    "ax = sns.barplot(metrics, series.values)\n",
    "ax.set_title(\"Similarity Metrics Comparison: Item Based- MAE\")\n",
    "ax.set_ylabel('MAE values')\n",
    "ax.set_xlabel('Metrics')\n",
    "ax.set_ylim(.7, 0.9)\n",
    "plt.show()\n",
    "print(vals)\n",
    "\n",
    "vals = [np.mean(perf_ItemBaseMSD['rmse']), np.mean(perf_ItemBased_cosine['rmse']), np.mean(perf_ItemBased_pearson['rmse'])]\n",
    "metrics = np.array(['MSD', 'cosine', 'pearson'])\n",
    "series = pd.Series(name='MAE', data=vals)\n",
    "ax = sns.barplot(metrics, series.values)\n",
    "ax.set_title(\"Similarity Metrics Comparison: Item Based- RMSE\")\n",
    "ax.set_ylabel('MAE values')\n",
    "ax.set_xlabel('Metrics')\n",
    "ax.set_ylim(.9,1.1)\n",
    "plt.show()\n",
    "print(vals)"
   ]
  },
  {
   "cell_type": "code",
   "execution_count": null,
   "metadata": {},
   "outputs": [],
   "source": [
    "#Question 15 \n",
    "#Finding best K for User Based collaborative filtering\n",
    "user_Based_RMSE_of_different_k = []\n",
    "user_Based_MAE_of_different_k = []\n",
    "for i in range(1,30):\n",
    "    algo = KNNBasic(k=i, sim_options = {\n",
    "            'name': 'MSD',\n",
    "            'user_based': True \n",
    "            })\n",
    "    perf_UserBased_MSD = evaluate(algo, data, measures=['RMSE', 'MAE'], verbose=0)\n",
    "    print(\"________________________________\")\n",
    "    print(\"K= \", i)\n",
    "    print_perf(perf_UserBased_MSD)\n",
    "    user_Based_MAE_of_different_k.append(np.mean(perf_UserBased_MSD['mae']))\n",
    "    user_Based_RMSE_of_different_k.append(np.mean(perf_UserBased_MSD['rmse']))"
   ]
  },
  {
   "cell_type": "code",
   "execution_count": null,
   "metadata": {},
   "outputs": [],
   "source": [
    "#Best RMSE for User Based Collaborative filtering\n",
    "min_RMSE_index = np.argmin(user_Based_RMSE_of_different_k)\n",
    "print(\"Best K= \", min_RMSE_index)\n",
    "print(\"Best RMSE= \", np.min(user_Based_RMSE_of_different_k))"
   ]
  },
  {
   "cell_type": "code",
   "execution_count": null,
   "metadata": {},
   "outputs": [],
   "source": [
    "# Rmse Chart for User Based Collaborative filtering\n",
    "series = pd.Series(name='rmse', data=user_Based_RMSE_of_different_k)\n",
    "ax = sns.barplot(series.index, series.values)\n",
    "ax.set_ylabel('RMSE values')\n",
    "ax.set_xlabel('Number of K')\n",
    "ax.set_xlim(1, 30)\n",
    "ax.set_ylim(.7, 1.2)"
   ]
  },
  {
   "cell_type": "code",
   "execution_count": null,
   "metadata": {},
   "outputs": [],
   "source": [
    "#Best RMSE for User Based Collaborative filtering\n",
    "min_RMSE_index = np.argmin(item_Based_RMSE_of_different_k)\n",
    "print(\"Best K= \", min_RMSE_index)\n",
    "print(\"Best RMSE= \", np.min(item_Based_RMSE_of_different_k))"
   ]
  },
  {
   "cell_type": "code",
   "execution_count": null,
   "metadata": {},
   "outputs": [],
   "source": [
    "#RMSE value for K = 24\n",
    "item_Based_RMSE_of_different_k[24]"
   ]
  },
  {
   "cell_type": "code",
   "execution_count": null,
   "metadata": {},
   "outputs": [],
   "source": [
    "# Rmse Chart for Item Based Collaborative filtering\n",
    "series = pd.Series(name='rmse', data=item_Based_RMSE_of_different_k)\n",
    "ax = sns.barplot(series.index, series.values)\n",
    "ax.set_ylabel('RMSE')\n",
    "ax.set_xlabel('k')\n",
    "ax.set_xlim(1, 30)\n",
    "ax.set_ylim(.8, 1.2)"
   ]
  }
 ],
 "metadata": {
  "kernelspec": {
   "display_name": "Python 3",
   "language": "python",
   "name": "python3"
  },
  "language_info": {
   "codemirror_mode": {
    "name": "ipython",
    "version": 3
   },
   "file_extension": ".py",
   "mimetype": "text/x-python",
   "name": "python",
   "nbconvert_exporter": "python",
   "pygments_lexer": "ipython3",
   "version": "3.7.4"
  }
 },
 "nbformat": 4,
 "nbformat_minor": 2
}
