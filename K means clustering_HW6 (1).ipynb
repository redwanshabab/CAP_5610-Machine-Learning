{
 "cells": [
  {
   "cell_type": "markdown",
   "metadata": {},
   "source": [
    "<h1><center>HW6</center></h1>"
   ]
  },
  {
   "cell_type": "markdown",
   "metadata": {},
   "source": [
    "<h1><center>CAP 5610</center></h1>"
   ]
  },
  {
   "cell_type": "markdown",
   "metadata": {},
   "source": [
    "<h1><center>Kazi Redwan Shabab</center></h1>"
   ]
  },
  {
   "cell_type": "markdown",
   "metadata": {},
   "source": [
    "# Game Data"
   ]
  },
  {
   "cell_type": "code",
   "execution_count": 350,
   "metadata": {},
   "outputs": [],
   "source": [
    "import pandas as pd\n",
    "import numpy as np\n",
    "from sklearn.preprocessing import normalize\n",
    "from sklearn import metrics\n",
    "import random\n",
    "import matplotlib.pyplot as plt\n",
    "%matplotlib inline\n",
    "import seaborn as sns\n",
    "from scipy import stats\n",
    "from copy import deepcopy\n",
    "plt.rcParams['figure.figsize'] = (16, 9)\n",
    "plt.style.use('ggplot')"
   ]
  },
  {
   "cell_type": "code",
   "execution_count": 291,
   "metadata": {},
   "outputs": [],
   "source": [
    "df1=pd.read_csv(r'C:\\Users\\redwi\\Downloads\\Spring 20\\CAP ML\\hw6.csv')"
   ]
  },
  {
   "cell_type": "code",
   "execution_count": 292,
   "metadata": {},
   "outputs": [
    {
     "data": {
      "text/html": [
       "<div>\n",
       "<style scoped>\n",
       "    .dataframe tbody tr th:only-of-type {\n",
       "        vertical-align: middle;\n",
       "    }\n",
       "\n",
       "    .dataframe tbody tr th {\n",
       "        vertical-align: top;\n",
       "    }\n",
       "\n",
       "    .dataframe thead th {\n",
       "        text-align: right;\n",
       "    }\n",
       "</style>\n",
       "<table border=\"1\" class=\"dataframe\">\n",
       "  <thead>\n",
       "    <tr style=\"text-align: right;\">\n",
       "      <th></th>\n",
       "      <th>Teans</th>\n",
       "      <th>Wins in Season 2016</th>\n",
       "      <th>Wins in Season 2017</th>\n",
       "    </tr>\n",
       "  </thead>\n",
       "  <tbody>\n",
       "    <tr>\n",
       "      <td>0</td>\n",
       "      <td>X1</td>\n",
       "      <td>3</td>\n",
       "      <td>5</td>\n",
       "    </tr>\n",
       "    <tr>\n",
       "      <td>1</td>\n",
       "      <td>X2</td>\n",
       "      <td>3</td>\n",
       "      <td>4</td>\n",
       "    </tr>\n",
       "    <tr>\n",
       "      <td>2</td>\n",
       "      <td>X3</td>\n",
       "      <td>2</td>\n",
       "      <td>8</td>\n",
       "    </tr>\n",
       "    <tr>\n",
       "      <td>3</td>\n",
       "      <td>X4</td>\n",
       "      <td>2</td>\n",
       "      <td>3</td>\n",
       "    </tr>\n",
       "    <tr>\n",
       "      <td>4</td>\n",
       "      <td>X5</td>\n",
       "      <td>6</td>\n",
       "      <td>2</td>\n",
       "    </tr>\n",
       "    <tr>\n",
       "      <td>5</td>\n",
       "      <td>X6</td>\n",
       "      <td>6</td>\n",
       "      <td>4</td>\n",
       "    </tr>\n",
       "    <tr>\n",
       "      <td>6</td>\n",
       "      <td>X7</td>\n",
       "      <td>7</td>\n",
       "      <td>3</td>\n",
       "    </tr>\n",
       "    <tr>\n",
       "      <td>7</td>\n",
       "      <td>X8</td>\n",
       "      <td>7</td>\n",
       "      <td>4</td>\n",
       "    </tr>\n",
       "    <tr>\n",
       "      <td>8</td>\n",
       "      <td>X9</td>\n",
       "      <td>8</td>\n",
       "      <td>5</td>\n",
       "    </tr>\n",
       "    <tr>\n",
       "      <td>9</td>\n",
       "      <td>X10</td>\n",
       "      <td>7</td>\n",
       "      <td>6</td>\n",
       "    </tr>\n",
       "  </tbody>\n",
       "</table>\n",
       "</div>"
      ],
      "text/plain": [
       "  Teans  Wins in Season 2016  Wins in Season 2017\n",
       "0    X1                    3                    5\n",
       "1    X2                    3                    4\n",
       "2    X3                    2                    8\n",
       "3    X4                    2                    3\n",
       "4    X5                    6                    2\n",
       "5    X6                    6                    4\n",
       "6    X7                    7                    3\n",
       "7    X8                    7                    4\n",
       "8    X9                    8                    5\n",
       "9   X10                    7                    6"
      ]
     },
     "execution_count": 292,
     "metadata": {},
     "output_type": "execute_result"
    }
   ],
   "source": [
    "df1"
   ]
  },
  {
   "cell_type": "code",
   "execution_count": 293,
   "metadata": {},
   "outputs": [],
   "source": [
    "A=df1.iloc[:, [1,2]].values\n",
    "A=np.array(A)"
   ]
  },
  {
   "cell_type": "code",
   "execution_count": 294,
   "metadata": {},
   "outputs": [],
   "source": [
    "from sklearn.cluster import KMeans"
   ]
  },
  {
   "cell_type": "code",
   "execution_count": 295,
   "metadata": {},
   "outputs": [],
   "source": [
    "WCSS=[]"
   ]
  },
  {
   "cell_type": "code",
   "execution_count": 296,
   "metadata": {
    "scrolled": true
   },
   "outputs": [
    {
     "data": {
      "image/png": "[encoded data removed]",
      "text/plain": [
       "<Figure size 1152x648 with 1 Axes>"
      ]
     },
     "metadata": {},
     "output_type": "display_data"
    }
   ],
   "source": [
    "for i in range(1,11):\n",
    "    kmeans=KMeans(n_clusters=i, init= 'k-means++',max_iter=300,n_init=10,random_state=0)\n",
    "    kmeans.fit(A)\n",
    "    WCSS.append(kmeans.inertia_)\n",
    "plt.plot(range(1,11),WCSS)\n",
    "plt.title('The elbow method')\n",
    "plt.xlabel('Number of clusters')\n",
    "plt.ylabel('WCSS')\n",
    "plt.show()"
   ]
  },
  {
   "cell_type": "code",
   "execution_count": 297,
   "metadata": {},
   "outputs": [],
   "source": [
    "kmeans=KMeans(n_clusters=4,init='k-means++',max_iter=300,n_init=10,random_state=0)\n",
    "y_kmeans=kmeans.fit_predict(A)"
   ]
  },
  {
   "cell_type": "code",
   "execution_count": 298,
   "metadata": {},
   "outputs": [
    {
     "data": {
      "text/plain": [
       "array([2, 2, 1, 2, 0, 0, 0, 0, 3, 3])"
      ]
     },
     "execution_count": 298,
     "metadata": {},
     "output_type": "execute_result"
    }
   ],
   "source": [
    "y_kmeans"
   ]
  },
  {
   "cell_type": "code",
   "execution_count": 299,
   "metadata": {},
   "outputs": [
    {
     "data": {
      "image/png": "[encoded data removed]",
      "text/plain": [
       "<Figure size 1152x648 with 1 Axes>"
      ]
     },
     "metadata": {},
     "output_type": "display_data"
    }
   ],
   "source": [
    "plt.scatter(A[y_kmeans==0,0],A[y_kmeans==0,1],s = 100, c = 'red', label = 'Cluster 1' )\n",
    "plt.scatter(A[y_kmeans==1,0],A[y_kmeans==1,1],s = 100, c = 'blue', label = 'Cluster 2' )\n",
    "plt.scatter(A[y_kmeans==2,0],A[y_kmeans==2,1],s = 100, c = 'green', label = 'Cluster 3' )\n",
    "plt.scatter(A[y_kmeans==3,0],A[y_kmeans==3,1],s = 100, c = 'cyan', label = 'Cluster 4' )\n",
    "plt.scatter(kmeans.cluster_centers_[:,0],kmeans.cluster_centers_[:,1], s=300, c = 'yellow', label = 'Centroids')\n",
    "plt.title('Clusters')\n",
    "plt.xlabel('# wins in Season 2016')\n",
    "plt.ylabel('# wins in Season 2017')\n",
    "plt.legend()\n",
    "plt.show()"
   ]
  },
  {
   "cell_type": "code",
   "execution_count": 300,
   "metadata": {},
   "outputs": [],
   "source": [
    "X= df1['Wins in Season 2016']"
   ]
  },
  {
   "cell_type": "code",
   "execution_count": 301,
   "metadata": {},
   "outputs": [],
   "source": [
    "Y=df1['Wins in Season 2017']"
   ]
  },
  {
   "cell_type": "code",
   "execution_count": 302,
   "metadata": {},
   "outputs": [],
   "source": [
    "a1 = (4, 6)\n",
    "a2 = (5, 4)"
   ]
  },
  {
   "cell_type": "code",
   "execution_count": 303,
   "metadata": {},
   "outputs": [],
   "source": [
    "import numpy as np\n",
    "def calculate_distance(centroid, X, Y):\n",
    "    distances = []\n",
    "        \n",
    "    # Unpack the x and y coordinates of the centroid\n",
    "    c_x, c_y = centroid\n",
    "        \n",
    "    # Iterate over the data points and calculate the distance using the given formula\n",
    "    for x, y in list(zip(X, Y)):\n",
    "        root_diff_x = (x - c_x) ** 2\n",
    "        root_diff_y = (y - c_y) ** 2\n",
    "        distance = np.sqrt(root_diff_x + root_diff_y)\n",
    "        distances.append(distance)\n",
    "        \n",
    "    return distances"
   ]
  },
  {
   "cell_type": "code",
   "execution_count": 304,
   "metadata": {},
   "outputs": [],
   "source": [
    "df1['A1_Distance'] = calculate_distance(a1, X, Y)\n",
    "df1['A2_Distance'] = calculate_distance(a2, X, Y)"
   ]
  },
  {
   "cell_type": "code",
   "execution_count": 305,
   "metadata": {},
   "outputs": [
    {
     "data": {
      "text/html": [
       "<div>\n",
       "<style scoped>\n",
       "    .dataframe tbody tr th:only-of-type {\n",
       "        vertical-align: middle;\n",
       "    }\n",
       "\n",
       "    .dataframe tbody tr th {\n",
       "        vertical-align: top;\n",
       "    }\n",
       "\n",
       "    .dataframe thead th {\n",
       "        text-align: right;\n",
       "    }\n",
       "</style>\n",
       "<table border=\"1\" class=\"dataframe\">\n",
       "  <thead>\n",
       "    <tr style=\"text-align: right;\">\n",
       "      <th></th>\n",
       "      <th>Teans</th>\n",
       "      <th>Wins in Season 2016</th>\n",
       "      <th>Wins in Season 2017</th>\n",
       "      <th>A1_Distance</th>\n",
       "      <th>A2_Distance</th>\n",
       "    </tr>\n",
       "  </thead>\n",
       "  <tbody>\n",
       "    <tr>\n",
       "      <td>0</td>\n",
       "      <td>X1</td>\n",
       "      <td>3</td>\n",
       "      <td>5</td>\n",
       "      <td>1.414214</td>\n",
       "      <td>2.236068</td>\n",
       "    </tr>\n",
       "    <tr>\n",
       "      <td>1</td>\n",
       "      <td>X2</td>\n",
       "      <td>3</td>\n",
       "      <td>4</td>\n",
       "      <td>2.236068</td>\n",
       "      <td>2.000000</td>\n",
       "    </tr>\n",
       "    <tr>\n",
       "      <td>2</td>\n",
       "      <td>X3</td>\n",
       "      <td>2</td>\n",
       "      <td>8</td>\n",
       "      <td>2.828427</td>\n",
       "      <td>5.000000</td>\n",
       "    </tr>\n",
       "    <tr>\n",
       "      <td>3</td>\n",
       "      <td>X4</td>\n",
       "      <td>2</td>\n",
       "      <td>3</td>\n",
       "      <td>3.605551</td>\n",
       "      <td>3.162278</td>\n",
       "    </tr>\n",
       "    <tr>\n",
       "      <td>4</td>\n",
       "      <td>X5</td>\n",
       "      <td>6</td>\n",
       "      <td>2</td>\n",
       "      <td>4.472136</td>\n",
       "      <td>2.236068</td>\n",
       "    </tr>\n",
       "    <tr>\n",
       "      <td>5</td>\n",
       "      <td>X6</td>\n",
       "      <td>6</td>\n",
       "      <td>4</td>\n",
       "      <td>2.828427</td>\n",
       "      <td>1.000000</td>\n",
       "    </tr>\n",
       "    <tr>\n",
       "      <td>6</td>\n",
       "      <td>X7</td>\n",
       "      <td>7</td>\n",
       "      <td>3</td>\n",
       "      <td>4.242641</td>\n",
       "      <td>2.236068</td>\n",
       "    </tr>\n",
       "    <tr>\n",
       "      <td>7</td>\n",
       "      <td>X8</td>\n",
       "      <td>7</td>\n",
       "      <td>4</td>\n",
       "      <td>3.605551</td>\n",
       "      <td>2.000000</td>\n",
       "    </tr>\n",
       "    <tr>\n",
       "      <td>8</td>\n",
       "      <td>X9</td>\n",
       "      <td>8</td>\n",
       "      <td>5</td>\n",
       "      <td>4.123106</td>\n",
       "      <td>3.162278</td>\n",
       "    </tr>\n",
       "    <tr>\n",
       "      <td>9</td>\n",
       "      <td>X10</td>\n",
       "      <td>7</td>\n",
       "      <td>6</td>\n",
       "      <td>3.000000</td>\n",
       "      <td>2.828427</td>\n",
       "    </tr>\n",
       "  </tbody>\n",
       "</table>\n",
       "</div>"
      ],
      "text/plain": [
       "  Teans  Wins in Season 2016  Wins in Season 2017  A1_Distance  A2_Distance\n",
       "0    X1                    3                    5     1.414214     2.236068\n",
       "1    X2                    3                    4     2.236068     2.000000\n",
       "2    X3                    2                    8     2.828427     5.000000\n",
       "3    X4                    2                    3     3.605551     3.162278\n",
       "4    X5                    6                    2     4.472136     2.236068\n",
       "5    X6                    6                    4     2.828427     1.000000\n",
       "6    X7                    7                    3     4.242641     2.236068\n",
       "7    X8                    7                    4     3.605551     2.000000\n",
       "8    X9                    8                    5     4.123106     3.162278\n",
       "9   X10                    7                    6     3.000000     2.828427"
      ]
     },
     "execution_count": 305,
     "metadata": {},
     "output_type": "execute_result"
    }
   ],
   "source": [
    "df1"
   ]
  },
  {
   "cell_type": "code",
   "execution_count": 306,
   "metadata": {},
   "outputs": [
    {
     "name": "stderr",
     "output_type": "stream",
     "text": [
      "C:\\ProgramData\\Anaconda3\\lib\\site-packages\\numpy\\core\\fromnumeric.py:56: FutureWarning: \n",
      "The current behaviour of 'Series.argmin' is deprecated, use 'idxmin'\n",
      "instead.\n",
      "The behavior of 'argmin' will be corrected to return the positional\n",
      "minimum in the future. For now, use 'series.values.argmin' or\n",
      "'np.argmin(np.array(values))' to get the position of the minimum\n",
      "row.\n",
      "  return getattr(obj, method)(*args, **kwds)\n"
     ]
    },
    {
     "data": {
      "text/html": [
       "<div>\n",
       "<style scoped>\n",
       "    .dataframe tbody tr th:only-of-type {\n",
       "        vertical-align: middle;\n",
       "    }\n",
       "\n",
       "    .dataframe tbody tr th {\n",
       "        vertical-align: top;\n",
       "    }\n",
       "\n",
       "    .dataframe thead th {\n",
       "        text-align: right;\n",
       "    }\n",
       "</style>\n",
       "<table border=\"1\" class=\"dataframe\">\n",
       "  <thead>\n",
       "    <tr style=\"text-align: right;\">\n",
       "      <th></th>\n",
       "      <th>Teans</th>\n",
       "      <th>Wins in Season 2016</th>\n",
       "      <th>Wins in Season 2017</th>\n",
       "      <th>A1_Distance</th>\n",
       "      <th>A2_Distance</th>\n",
       "      <th>Cluster</th>\n",
       "    </tr>\n",
       "  </thead>\n",
       "  <tbody>\n",
       "    <tr>\n",
       "      <td>0</td>\n",
       "      <td>X1</td>\n",
       "      <td>3</td>\n",
       "      <td>5</td>\n",
       "      <td>1.414214</td>\n",
       "      <td>2.236068</td>\n",
       "      <td>A1_Distance</td>\n",
       "    </tr>\n",
       "    <tr>\n",
       "      <td>1</td>\n",
       "      <td>X2</td>\n",
       "      <td>3</td>\n",
       "      <td>4</td>\n",
       "      <td>2.236068</td>\n",
       "      <td>2.000000</td>\n",
       "      <td>A2_Distance</td>\n",
       "    </tr>\n",
       "    <tr>\n",
       "      <td>2</td>\n",
       "      <td>X3</td>\n",
       "      <td>2</td>\n",
       "      <td>8</td>\n",
       "      <td>2.828427</td>\n",
       "      <td>5.000000</td>\n",
       "      <td>A1_Distance</td>\n",
       "    </tr>\n",
       "    <tr>\n",
       "      <td>3</td>\n",
       "      <td>X4</td>\n",
       "      <td>2</td>\n",
       "      <td>3</td>\n",
       "      <td>3.605551</td>\n",
       "      <td>3.162278</td>\n",
       "      <td>A2_Distance</td>\n",
       "    </tr>\n",
       "    <tr>\n",
       "      <td>4</td>\n",
       "      <td>X5</td>\n",
       "      <td>6</td>\n",
       "      <td>2</td>\n",
       "      <td>4.472136</td>\n",
       "      <td>2.236068</td>\n",
       "      <td>A2_Distance</td>\n",
       "    </tr>\n",
       "    <tr>\n",
       "      <td>5</td>\n",
       "      <td>X6</td>\n",
       "      <td>6</td>\n",
       "      <td>4</td>\n",
       "      <td>2.828427</td>\n",
       "      <td>1.000000</td>\n",
       "      <td>A2_Distance</td>\n",
       "    </tr>\n",
       "    <tr>\n",
       "      <td>6</td>\n",
       "      <td>X7</td>\n",
       "      <td>7</td>\n",
       "      <td>3</td>\n",
       "      <td>4.242641</td>\n",
       "      <td>2.236068</td>\n",
       "      <td>A2_Distance</td>\n",
       "    </tr>\n",
       "    <tr>\n",
       "      <td>7</td>\n",
       "      <td>X8</td>\n",
       "      <td>7</td>\n",
       "      <td>4</td>\n",
       "      <td>3.605551</td>\n",
       "      <td>2.000000</td>\n",
       "      <td>A2_Distance</td>\n",
       "    </tr>\n",
       "    <tr>\n",
       "      <td>8</td>\n",
       "      <td>X9</td>\n",
       "      <td>8</td>\n",
       "      <td>5</td>\n",
       "      <td>4.123106</td>\n",
       "      <td>3.162278</td>\n",
       "      <td>A2_Distance</td>\n",
       "    </tr>\n",
       "    <tr>\n",
       "      <td>9</td>\n",
       "      <td>X10</td>\n",
       "      <td>7</td>\n",
       "      <td>6</td>\n",
       "      <td>3.000000</td>\n",
       "      <td>2.828427</td>\n",
       "      <td>A2_Distance</td>\n",
       "    </tr>\n",
       "  </tbody>\n",
       "</table>\n",
       "</div>"
      ],
      "text/plain": [
       "  Teans  Wins in Season 2016  Wins in Season 2017  A1_Distance  A2_Distance  \\\n",
       "0    X1                    3                    5     1.414214     2.236068   \n",
       "1    X2                    3                    4     2.236068     2.000000   \n",
       "2    X3                    2                    8     2.828427     5.000000   \n",
       "3    X4                    2                    3     3.605551     3.162278   \n",
       "4    X5                    6                    2     4.472136     2.236068   \n",
       "5    X6                    6                    4     2.828427     1.000000   \n",
       "6    X7                    7                    3     4.242641     2.236068   \n",
       "7    X8                    7                    4     3.605551     2.000000   \n",
       "8    X9                    8                    5     4.123106     3.162278   \n",
       "9   X10                    7                    6     3.000000     2.828427   \n",
       "\n",
       "       Cluster  \n",
       "0  A1_Distance  \n",
       "1  A2_Distance  \n",
       "2  A1_Distance  \n",
       "3  A2_Distance  \n",
       "4  A2_Distance  \n",
       "5  A2_Distance  \n",
       "6  A2_Distance  \n",
       "7  A2_Distance  \n",
       "8  A2_Distance  \n",
       "9  A2_Distance  "
      ]
     },
     "execution_count": 306,
     "metadata": {},
     "output_type": "execute_result"
    }
   ],
   "source": [
    "df1['Cluster'] = df1[['A1_Distance', 'A2_Distance']].apply(np.argmin, axis =1)\n",
    "df1"
   ]
  },
  {
   "cell_type": "code",
   "execution_count": 307,
   "metadata": {},
   "outputs": [],
   "source": [
    " df1['Cluster'] = df1['Cluster'].map({'A1_Distance': 'A1', 'A2_Distance': 'A2'})"
   ]
  },
  {
   "cell_type": "code",
   "execution_count": 308,
   "metadata": {},
   "outputs": [
    {
     "data": {
      "text/html": [
       "<div>\n",
       "<style scoped>\n",
       "    .dataframe tbody tr th:only-of-type {\n",
       "        vertical-align: middle;\n",
       "    }\n",
       "\n",
       "    .dataframe tbody tr th {\n",
       "        vertical-align: top;\n",
       "    }\n",
       "\n",
       "    .dataframe thead th {\n",
       "        text-align: right;\n",
       "    }\n",
       "</style>\n",
       "<table border=\"1\" class=\"dataframe\">\n",
       "  <thead>\n",
       "    <tr style=\"text-align: right;\">\n",
       "      <th></th>\n",
       "      <th>Teans</th>\n",
       "      <th>Wins in Season 2016</th>\n",
       "      <th>Wins in Season 2017</th>\n",
       "      <th>A1_Distance</th>\n",
       "      <th>A2_Distance</th>\n",
       "      <th>Cluster</th>\n",
       "    </tr>\n",
       "  </thead>\n",
       "  <tbody>\n",
       "    <tr>\n",
       "      <td>0</td>\n",
       "      <td>X1</td>\n",
       "      <td>3</td>\n",
       "      <td>5</td>\n",
       "      <td>1.414214</td>\n",
       "      <td>2.236068</td>\n",
       "      <td>A1</td>\n",
       "    </tr>\n",
       "    <tr>\n",
       "      <td>1</td>\n",
       "      <td>X2</td>\n",
       "      <td>3</td>\n",
       "      <td>4</td>\n",
       "      <td>2.236068</td>\n",
       "      <td>2.000000</td>\n",
       "      <td>A2</td>\n",
       "    </tr>\n",
       "    <tr>\n",
       "      <td>2</td>\n",
       "      <td>X3</td>\n",
       "      <td>2</td>\n",
       "      <td>8</td>\n",
       "      <td>2.828427</td>\n",
       "      <td>5.000000</td>\n",
       "      <td>A1</td>\n",
       "    </tr>\n",
       "    <tr>\n",
       "      <td>3</td>\n",
       "      <td>X4</td>\n",
       "      <td>2</td>\n",
       "      <td>3</td>\n",
       "      <td>3.605551</td>\n",
       "      <td>3.162278</td>\n",
       "      <td>A2</td>\n",
       "    </tr>\n",
       "    <tr>\n",
       "      <td>4</td>\n",
       "      <td>X5</td>\n",
       "      <td>6</td>\n",
       "      <td>2</td>\n",
       "      <td>4.472136</td>\n",
       "      <td>2.236068</td>\n",
       "      <td>A2</td>\n",
       "    </tr>\n",
       "    <tr>\n",
       "      <td>5</td>\n",
       "      <td>X6</td>\n",
       "      <td>6</td>\n",
       "      <td>4</td>\n",
       "      <td>2.828427</td>\n",
       "      <td>1.000000</td>\n",
       "      <td>A2</td>\n",
       "    </tr>\n",
       "    <tr>\n",
       "      <td>6</td>\n",
       "      <td>X7</td>\n",
       "      <td>7</td>\n",
       "      <td>3</td>\n",
       "      <td>4.242641</td>\n",
       "      <td>2.236068</td>\n",
       "      <td>A2</td>\n",
       "    </tr>\n",
       "    <tr>\n",
       "      <td>7</td>\n",
       "      <td>X8</td>\n",
       "      <td>7</td>\n",
       "      <td>4</td>\n",
       "      <td>3.605551</td>\n",
       "      <td>2.000000</td>\n",
       "      <td>A2</td>\n",
       "    </tr>\n",
       "    <tr>\n",
       "      <td>8</td>\n",
       "      <td>X9</td>\n",
       "      <td>8</td>\n",
       "      <td>5</td>\n",
       "      <td>4.123106</td>\n",
       "      <td>3.162278</td>\n",
       "      <td>A2</td>\n",
       "    </tr>\n",
       "    <tr>\n",
       "      <td>9</td>\n",
       "      <td>X10</td>\n",
       "      <td>7</td>\n",
       "      <td>6</td>\n",
       "      <td>3.000000</td>\n",
       "      <td>2.828427</td>\n",
       "      <td>A2</td>\n",
       "    </tr>\n",
       "  </tbody>\n",
       "</table>\n",
       "</div>"
      ],
      "text/plain": [
       "  Teans  Wins in Season 2016  Wins in Season 2017  A1_Distance  A2_Distance  \\\n",
       "0    X1                    3                    5     1.414214     2.236068   \n",
       "1    X2                    3                    4     2.236068     2.000000   \n",
       "2    X3                    2                    8     2.828427     5.000000   \n",
       "3    X4                    2                    3     3.605551     3.162278   \n",
       "4    X5                    6                    2     4.472136     2.236068   \n",
       "5    X6                    6                    4     2.828427     1.000000   \n",
       "6    X7                    7                    3     4.242641     2.236068   \n",
       "7    X8                    7                    4     3.605551     2.000000   \n",
       "8    X9                    8                    5     4.123106     3.162278   \n",
       "9   X10                    7                    6     3.000000     2.828427   \n",
       "\n",
       "  Cluster  \n",
       "0      A1  \n",
       "1      A2  \n",
       "2      A1  \n",
       "3      A2  \n",
       "4      A2  \n",
       "5      A2  \n",
       "6      A2  \n",
       "7      A2  \n",
       "8      A2  \n",
       "9      A2  "
      ]
     },
     "execution_count": 308,
     "metadata": {},
     "output_type": "execute_result"
    }
   ],
   "source": [
    "df1"
   ]
  },
  {
   "cell_type": "code",
   "execution_count": 309,
   "metadata": {},
   "outputs": [],
   "source": [
    "from math import*\n",
    "\n",
    "def calculate_manhattan_distance(centroid, X, Y):\n",
    "    distances = []\n",
    "        \n",
    "    # Unpack the x and y coordinates of the centroid\n",
    "    c_x, c_y = centroid\n",
    "        \n",
    "    # Iterate over the data points and calculate the distance using the given formula\n",
    "    for x, y in list(zip(X, Y)):\n",
    "        diff_x = abs(x - c_x) \n",
    "        diff_y = abs(y - c_y) \n",
    "        distance = (diff_x + diff_y)\n",
    "        distances.append(distance)\n",
    "        \n",
    "    return distances"
   ]
  },
  {
   "cell_type": "code",
   "execution_count": 310,
   "metadata": {},
   "outputs": [],
   "source": [
    "df2=pd.read_csv(r'C:\\Users\\redwi\\Downloads\\Spring 20\\CAP ML\\hw6.csv')"
   ]
  },
  {
   "cell_type": "code",
   "execution_count": 311,
   "metadata": {},
   "outputs": [],
   "source": [
    "b1 = (4, 6)\n",
    "b2 = (5, 4)"
   ]
  },
  {
   "cell_type": "code",
   "execution_count": 312,
   "metadata": {},
   "outputs": [],
   "source": [
    "df2['B1_Distance'] = calculate_manhattan_distance(b1, X, Y)\n",
    "df2['B2_Distance'] = calculate_manhattan_distance(b2, X, Y)"
   ]
  },
  {
   "cell_type": "code",
   "execution_count": 313,
   "metadata": {},
   "outputs": [
    {
     "data": {
      "text/html": [
       "<div>\n",
       "<style scoped>\n",
       "    .dataframe tbody tr th:only-of-type {\n",
       "        vertical-align: middle;\n",
       "    }\n",
       "\n",
       "    .dataframe tbody tr th {\n",
       "        vertical-align: top;\n",
       "    }\n",
       "\n",
       "    .dataframe thead th {\n",
       "        text-align: right;\n",
       "    }\n",
       "</style>\n",
       "<table border=\"1\" class=\"dataframe\">\n",
       "  <thead>\n",
       "    <tr style=\"text-align: right;\">\n",
       "      <th></th>\n",
       "      <th>Teans</th>\n",
       "      <th>Wins in Season 2016</th>\n",
       "      <th>Wins in Season 2017</th>\n",
       "      <th>B1_Distance</th>\n",
       "      <th>B2_Distance</th>\n",
       "      <th>Cluster</th>\n",
       "    </tr>\n",
       "  </thead>\n",
       "  <tbody>\n",
       "    <tr>\n",
       "      <td>0</td>\n",
       "      <td>X1</td>\n",
       "      <td>3</td>\n",
       "      <td>5</td>\n",
       "      <td>2</td>\n",
       "      <td>3</td>\n",
       "      <td>B1_Distance</td>\n",
       "    </tr>\n",
       "    <tr>\n",
       "      <td>1</td>\n",
       "      <td>X2</td>\n",
       "      <td>3</td>\n",
       "      <td>4</td>\n",
       "      <td>3</td>\n",
       "      <td>2</td>\n",
       "      <td>B2_Distance</td>\n",
       "    </tr>\n",
       "    <tr>\n",
       "      <td>2</td>\n",
       "      <td>X3</td>\n",
       "      <td>2</td>\n",
       "      <td>8</td>\n",
       "      <td>4</td>\n",
       "      <td>7</td>\n",
       "      <td>B1_Distance</td>\n",
       "    </tr>\n",
       "    <tr>\n",
       "      <td>3</td>\n",
       "      <td>X4</td>\n",
       "      <td>2</td>\n",
       "      <td>3</td>\n",
       "      <td>5</td>\n",
       "      <td>4</td>\n",
       "      <td>B2_Distance</td>\n",
       "    </tr>\n",
       "    <tr>\n",
       "      <td>4</td>\n",
       "      <td>X5</td>\n",
       "      <td>6</td>\n",
       "      <td>2</td>\n",
       "      <td>6</td>\n",
       "      <td>3</td>\n",
       "      <td>B2_Distance</td>\n",
       "    </tr>\n",
       "    <tr>\n",
       "      <td>5</td>\n",
       "      <td>X6</td>\n",
       "      <td>6</td>\n",
       "      <td>4</td>\n",
       "      <td>4</td>\n",
       "      <td>1</td>\n",
       "      <td>B2_Distance</td>\n",
       "    </tr>\n",
       "    <tr>\n",
       "      <td>6</td>\n",
       "      <td>X7</td>\n",
       "      <td>7</td>\n",
       "      <td>3</td>\n",
       "      <td>6</td>\n",
       "      <td>3</td>\n",
       "      <td>B2_Distance</td>\n",
       "    </tr>\n",
       "    <tr>\n",
       "      <td>7</td>\n",
       "      <td>X8</td>\n",
       "      <td>7</td>\n",
       "      <td>4</td>\n",
       "      <td>5</td>\n",
       "      <td>2</td>\n",
       "      <td>B2_Distance</td>\n",
       "    </tr>\n",
       "    <tr>\n",
       "      <td>8</td>\n",
       "      <td>X9</td>\n",
       "      <td>8</td>\n",
       "      <td>5</td>\n",
       "      <td>5</td>\n",
       "      <td>4</td>\n",
       "      <td>B2_Distance</td>\n",
       "    </tr>\n",
       "    <tr>\n",
       "      <td>9</td>\n",
       "      <td>X10</td>\n",
       "      <td>7</td>\n",
       "      <td>6</td>\n",
       "      <td>3</td>\n",
       "      <td>4</td>\n",
       "      <td>B1_Distance</td>\n",
       "    </tr>\n",
       "  </tbody>\n",
       "</table>\n",
       "</div>"
      ],
      "text/plain": [
       "  Teans  Wins in Season 2016  Wins in Season 2017  B1_Distance  B2_Distance  \\\n",
       "0    X1                    3                    5            2            3   \n",
       "1    X2                    3                    4            3            2   \n",
       "2    X3                    2                    8            4            7   \n",
       "3    X4                    2                    3            5            4   \n",
       "4    X5                    6                    2            6            3   \n",
       "5    X6                    6                    4            4            1   \n",
       "6    X7                    7                    3            6            3   \n",
       "7    X8                    7                    4            5            2   \n",
       "8    X9                    8                    5            5            4   \n",
       "9   X10                    7                    6            3            4   \n",
       "\n",
       "       Cluster  \n",
       "0  B1_Distance  \n",
       "1  B2_Distance  \n",
       "2  B1_Distance  \n",
       "3  B2_Distance  \n",
       "4  B2_Distance  \n",
       "5  B2_Distance  \n",
       "6  B2_Distance  \n",
       "7  B2_Distance  \n",
       "8  B2_Distance  \n",
       "9  B1_Distance  "
      ]
     },
     "execution_count": 313,
     "metadata": {},
     "output_type": "execute_result"
    }
   ],
   "source": [
    "df2['Cluster'] = df2[['B1_Distance', 'B2_Distance']].apply(np.argmin, axis =1)\n",
    "df2"
   ]
  },
  {
   "cell_type": "code",
   "execution_count": 314,
   "metadata": {},
   "outputs": [],
   "source": [
    "df2['Cluster'] = df2['Cluster'].map({'B1_Distance': 'A1', 'B2_Distance': 'A2'})"
   ]
  },
  {
   "cell_type": "code",
   "execution_count": 315,
   "metadata": {},
   "outputs": [
    {
     "data": {
      "text/html": [
       "<div>\n",
       "<style scoped>\n",
       "    .dataframe tbody tr th:only-of-type {\n",
       "        vertical-align: middle;\n",
       "    }\n",
       "\n",
       "    .dataframe tbody tr th {\n",
       "        vertical-align: top;\n",
       "    }\n",
       "\n",
       "    .dataframe thead th {\n",
       "        text-align: right;\n",
       "    }\n",
       "</style>\n",
       "<table border=\"1\" class=\"dataframe\">\n",
       "  <thead>\n",
       "    <tr style=\"text-align: right;\">\n",
       "      <th></th>\n",
       "      <th>Teans</th>\n",
       "      <th>Wins in Season 2016</th>\n",
       "      <th>Wins in Season 2017</th>\n",
       "      <th>B1_Distance</th>\n",
       "      <th>B2_Distance</th>\n",
       "      <th>Cluster</th>\n",
       "    </tr>\n",
       "  </thead>\n",
       "  <tbody>\n",
       "    <tr>\n",
       "      <td>0</td>\n",
       "      <td>X1</td>\n",
       "      <td>3</td>\n",
       "      <td>5</td>\n",
       "      <td>2</td>\n",
       "      <td>3</td>\n",
       "      <td>A1</td>\n",
       "    </tr>\n",
       "    <tr>\n",
       "      <td>1</td>\n",
       "      <td>X2</td>\n",
       "      <td>3</td>\n",
       "      <td>4</td>\n",
       "      <td>3</td>\n",
       "      <td>2</td>\n",
       "      <td>A2</td>\n",
       "    </tr>\n",
       "    <tr>\n",
       "      <td>2</td>\n",
       "      <td>X3</td>\n",
       "      <td>2</td>\n",
       "      <td>8</td>\n",
       "      <td>4</td>\n",
       "      <td>7</td>\n",
       "      <td>A1</td>\n",
       "    </tr>\n",
       "    <tr>\n",
       "      <td>3</td>\n",
       "      <td>X4</td>\n",
       "      <td>2</td>\n",
       "      <td>3</td>\n",
       "      <td>5</td>\n",
       "      <td>4</td>\n",
       "      <td>A2</td>\n",
       "    </tr>\n",
       "    <tr>\n",
       "      <td>4</td>\n",
       "      <td>X5</td>\n",
       "      <td>6</td>\n",
       "      <td>2</td>\n",
       "      <td>6</td>\n",
       "      <td>3</td>\n",
       "      <td>A2</td>\n",
       "    </tr>\n",
       "    <tr>\n",
       "      <td>5</td>\n",
       "      <td>X6</td>\n",
       "      <td>6</td>\n",
       "      <td>4</td>\n",
       "      <td>4</td>\n",
       "      <td>1</td>\n",
       "      <td>A2</td>\n",
       "    </tr>\n",
       "    <tr>\n",
       "      <td>6</td>\n",
       "      <td>X7</td>\n",
       "      <td>7</td>\n",
       "      <td>3</td>\n",
       "      <td>6</td>\n",
       "      <td>3</td>\n",
       "      <td>A2</td>\n",
       "    </tr>\n",
       "    <tr>\n",
       "      <td>7</td>\n",
       "      <td>X8</td>\n",
       "      <td>7</td>\n",
       "      <td>4</td>\n",
       "      <td>5</td>\n",
       "      <td>2</td>\n",
       "      <td>A2</td>\n",
       "    </tr>\n",
       "    <tr>\n",
       "      <td>8</td>\n",
       "      <td>X9</td>\n",
       "      <td>8</td>\n",
       "      <td>5</td>\n",
       "      <td>5</td>\n",
       "      <td>4</td>\n",
       "      <td>A2</td>\n",
       "    </tr>\n",
       "    <tr>\n",
       "      <td>9</td>\n",
       "      <td>X10</td>\n",
       "      <td>7</td>\n",
       "      <td>6</td>\n",
       "      <td>3</td>\n",
       "      <td>4</td>\n",
       "      <td>A1</td>\n",
       "    </tr>\n",
       "  </tbody>\n",
       "</table>\n",
       "</div>"
      ],
      "text/plain": [
       "  Teans  Wins in Season 2016  Wins in Season 2017  B1_Distance  B2_Distance  \\\n",
       "0    X1                    3                    5            2            3   \n",
       "1    X2                    3                    4            3            2   \n",
       "2    X3                    2                    8            4            7   \n",
       "3    X4                    2                    3            5            4   \n",
       "4    X5                    6                    2            6            3   \n",
       "5    X6                    6                    4            4            1   \n",
       "6    X7                    7                    3            6            3   \n",
       "7    X8                    7                    4            5            2   \n",
       "8    X9                    8                    5            5            4   \n",
       "9   X10                    7                    6            3            4   \n",
       "\n",
       "  Cluster  \n",
       "0      A1  \n",
       "1      A2  \n",
       "2      A1  \n",
       "3      A2  \n",
       "4      A2  \n",
       "5      A2  \n",
       "6      A2  \n",
       "7      A2  \n",
       "8      A2  \n",
       "9      A1  "
      ]
     },
     "execution_count": 315,
     "metadata": {},
     "output_type": "execute_result"
    }
   ],
   "source": [
    "df2"
   ]
  },
  {
   "cell_type": "code",
   "execution_count": 316,
   "metadata": {},
   "outputs": [],
   "source": [
    "df3=pd.read_csv(r'C:\\Users\\redwi\\Downloads\\Spring 20\\CAP ML\\hw6.csv')"
   ]
  },
  {
   "cell_type": "code",
   "execution_count": 317,
   "metadata": {},
   "outputs": [],
   "source": [
    "c1 = (3, 3)\n",
    "c2 = (8, 3)"
   ]
  },
  {
   "cell_type": "code",
   "execution_count": 318,
   "metadata": {},
   "outputs": [],
   "source": [
    "df3['C1_Distance'] = calculate_manhattan_distance(c1, X, Y)\n",
    "df3['C2_Distance'] = calculate_manhattan_distance(c2, X, Y)"
   ]
  },
  {
   "cell_type": "code",
   "execution_count": 319,
   "metadata": {},
   "outputs": [],
   "source": [
    "df3['Cluster'] = df3[['C1_Distance', 'C2_Distance']].apply(np.argmin, axis =1)"
   ]
  },
  {
   "cell_type": "code",
   "execution_count": 320,
   "metadata": {},
   "outputs": [],
   "source": [
    "df3['Cluster'] = df3['Cluster'].map({'C1_Distance': 'A1', 'C2_Distance': 'A2'})"
   ]
  },
  {
   "cell_type": "code",
   "execution_count": 321,
   "metadata": {},
   "outputs": [
    {
     "data": {
      "text/html": [
       "<div>\n",
       "<style scoped>\n",
       "    .dataframe tbody tr th:only-of-type {\n",
       "        vertical-align: middle;\n",
       "    }\n",
       "\n",
       "    .dataframe tbody tr th {\n",
       "        vertical-align: top;\n",
       "    }\n",
       "\n",
       "    .dataframe thead th {\n",
       "        text-align: right;\n",
       "    }\n",
       "</style>\n",
       "<table border=\"1\" class=\"dataframe\">\n",
       "  <thead>\n",
       "    <tr style=\"text-align: right;\">\n",
       "      <th></th>\n",
       "      <th>Teans</th>\n",
       "      <th>Wins in Season 2016</th>\n",
       "      <th>Wins in Season 2017</th>\n",
       "      <th>C1_Distance</th>\n",
       "      <th>C2_Distance</th>\n",
       "      <th>Cluster</th>\n",
       "    </tr>\n",
       "  </thead>\n",
       "  <tbody>\n",
       "    <tr>\n",
       "      <td>0</td>\n",
       "      <td>X1</td>\n",
       "      <td>3</td>\n",
       "      <td>5</td>\n",
       "      <td>2</td>\n",
       "      <td>7</td>\n",
       "      <td>A1</td>\n",
       "    </tr>\n",
       "    <tr>\n",
       "      <td>1</td>\n",
       "      <td>X2</td>\n",
       "      <td>3</td>\n",
       "      <td>4</td>\n",
       "      <td>1</td>\n",
       "      <td>6</td>\n",
       "      <td>A1</td>\n",
       "    </tr>\n",
       "    <tr>\n",
       "      <td>2</td>\n",
       "      <td>X3</td>\n",
       "      <td>2</td>\n",
       "      <td>8</td>\n",
       "      <td>6</td>\n",
       "      <td>11</td>\n",
       "      <td>A1</td>\n",
       "    </tr>\n",
       "    <tr>\n",
       "      <td>3</td>\n",
       "      <td>X4</td>\n",
       "      <td>2</td>\n",
       "      <td>3</td>\n",
       "      <td>1</td>\n",
       "      <td>6</td>\n",
       "      <td>A1</td>\n",
       "    </tr>\n",
       "    <tr>\n",
       "      <td>4</td>\n",
       "      <td>X5</td>\n",
       "      <td>6</td>\n",
       "      <td>2</td>\n",
       "      <td>4</td>\n",
       "      <td>3</td>\n",
       "      <td>A2</td>\n",
       "    </tr>\n",
       "    <tr>\n",
       "      <td>5</td>\n",
       "      <td>X6</td>\n",
       "      <td>6</td>\n",
       "      <td>4</td>\n",
       "      <td>4</td>\n",
       "      <td>3</td>\n",
       "      <td>A2</td>\n",
       "    </tr>\n",
       "    <tr>\n",
       "      <td>6</td>\n",
       "      <td>X7</td>\n",
       "      <td>7</td>\n",
       "      <td>3</td>\n",
       "      <td>4</td>\n",
       "      <td>1</td>\n",
       "      <td>A2</td>\n",
       "    </tr>\n",
       "    <tr>\n",
       "      <td>7</td>\n",
       "      <td>X8</td>\n",
       "      <td>7</td>\n",
       "      <td>4</td>\n",
       "      <td>5</td>\n",
       "      <td>2</td>\n",
       "      <td>A2</td>\n",
       "    </tr>\n",
       "    <tr>\n",
       "      <td>8</td>\n",
       "      <td>X9</td>\n",
       "      <td>8</td>\n",
       "      <td>5</td>\n",
       "      <td>7</td>\n",
       "      <td>2</td>\n",
       "      <td>A2</td>\n",
       "    </tr>\n",
       "    <tr>\n",
       "      <td>9</td>\n",
       "      <td>X10</td>\n",
       "      <td>7</td>\n",
       "      <td>6</td>\n",
       "      <td>7</td>\n",
       "      <td>4</td>\n",
       "      <td>A2</td>\n",
       "    </tr>\n",
       "  </tbody>\n",
       "</table>\n",
       "</div>"
      ],
      "text/plain": [
       "  Teans  Wins in Season 2016  Wins in Season 2017  C1_Distance  C2_Distance  \\\n",
       "0    X1                    3                    5            2            7   \n",
       "1    X2                    3                    4            1            6   \n",
       "2    X3                    2                    8            6           11   \n",
       "3    X4                    2                    3            1            6   \n",
       "4    X5                    6                    2            4            3   \n",
       "5    X6                    6                    4            4            3   \n",
       "6    X7                    7                    3            4            1   \n",
       "7    X8                    7                    4            5            2   \n",
       "8    X9                    8                    5            7            2   \n",
       "9   X10                    7                    6            7            4   \n",
       "\n",
       "  Cluster  \n",
       "0      A1  \n",
       "1      A1  \n",
       "2      A1  \n",
       "3      A1  \n",
       "4      A2  \n",
       "5      A2  \n",
       "6      A2  \n",
       "7      A2  \n",
       "8      A2  \n",
       "9      A2  "
      ]
     },
     "execution_count": 321,
     "metadata": {},
     "output_type": "execute_result"
    }
   ],
   "source": [
    "df3"
   ]
  },
  {
   "cell_type": "code",
   "execution_count": 322,
   "metadata": {},
   "outputs": [],
   "source": [
    "df4=pd.read_csv(r'C:\\Users\\redwi\\Downloads\\Spring 20\\CAP ML\\hw6.csv')"
   ]
  },
  {
   "cell_type": "code",
   "execution_count": 323,
   "metadata": {},
   "outputs": [],
   "source": [
    "d1 = (3, 2)\n",
    "d2 = (4, 8)"
   ]
  },
  {
   "cell_type": "code",
   "execution_count": 324,
   "metadata": {},
   "outputs": [],
   "source": [
    "df4['D1_Distance'] = calculate_manhattan_distance(d1, X, Y)\n",
    "df4['D2_Distance'] = calculate_manhattan_distance(d2, X, Y)"
   ]
  },
  {
   "cell_type": "code",
   "execution_count": 325,
   "metadata": {},
   "outputs": [],
   "source": [
    "df4['Cluster'] = df4[['D1_Distance', 'D2_Distance']].apply(np.argmin, axis =1)"
   ]
  },
  {
   "cell_type": "code",
   "execution_count": 326,
   "metadata": {},
   "outputs": [],
   "source": [
    "df4['Cluster'] = df4['Cluster'].map({'D1_Distance': 'A1', 'D2_Distance': 'A2'})"
   ]
  },
  {
   "cell_type": "code",
   "execution_count": 327,
   "metadata": {},
   "outputs": [
    {
     "data": {
      "text/html": [
       "<div>\n",
       "<style scoped>\n",
       "    .dataframe tbody tr th:only-of-type {\n",
       "        vertical-align: middle;\n",
       "    }\n",
       "\n",
       "    .dataframe tbody tr th {\n",
       "        vertical-align: top;\n",
       "    }\n",
       "\n",
       "    .dataframe thead th {\n",
       "        text-align: right;\n",
       "    }\n",
       "</style>\n",
       "<table border=\"1\" class=\"dataframe\">\n",
       "  <thead>\n",
       "    <tr style=\"text-align: right;\">\n",
       "      <th></th>\n",
       "      <th>Teans</th>\n",
       "      <th>Wins in Season 2016</th>\n",
       "      <th>Wins in Season 2017</th>\n",
       "      <th>D1_Distance</th>\n",
       "      <th>D2_Distance</th>\n",
       "      <th>Cluster</th>\n",
       "    </tr>\n",
       "  </thead>\n",
       "  <tbody>\n",
       "    <tr>\n",
       "      <td>0</td>\n",
       "      <td>X1</td>\n",
       "      <td>3</td>\n",
       "      <td>5</td>\n",
       "      <td>3</td>\n",
       "      <td>4</td>\n",
       "      <td>A1</td>\n",
       "    </tr>\n",
       "    <tr>\n",
       "      <td>1</td>\n",
       "      <td>X2</td>\n",
       "      <td>3</td>\n",
       "      <td>4</td>\n",
       "      <td>2</td>\n",
       "      <td>5</td>\n",
       "      <td>A1</td>\n",
       "    </tr>\n",
       "    <tr>\n",
       "      <td>2</td>\n",
       "      <td>X3</td>\n",
       "      <td>2</td>\n",
       "      <td>8</td>\n",
       "      <td>7</td>\n",
       "      <td>2</td>\n",
       "      <td>A2</td>\n",
       "    </tr>\n",
       "    <tr>\n",
       "      <td>3</td>\n",
       "      <td>X4</td>\n",
       "      <td>2</td>\n",
       "      <td>3</td>\n",
       "      <td>2</td>\n",
       "      <td>7</td>\n",
       "      <td>A1</td>\n",
       "    </tr>\n",
       "    <tr>\n",
       "      <td>4</td>\n",
       "      <td>X5</td>\n",
       "      <td>6</td>\n",
       "      <td>2</td>\n",
       "      <td>3</td>\n",
       "      <td>8</td>\n",
       "      <td>A1</td>\n",
       "    </tr>\n",
       "    <tr>\n",
       "      <td>5</td>\n",
       "      <td>X6</td>\n",
       "      <td>6</td>\n",
       "      <td>4</td>\n",
       "      <td>5</td>\n",
       "      <td>6</td>\n",
       "      <td>A1</td>\n",
       "    </tr>\n",
       "    <tr>\n",
       "      <td>6</td>\n",
       "      <td>X7</td>\n",
       "      <td>7</td>\n",
       "      <td>3</td>\n",
       "      <td>5</td>\n",
       "      <td>8</td>\n",
       "      <td>A1</td>\n",
       "    </tr>\n",
       "    <tr>\n",
       "      <td>7</td>\n",
       "      <td>X8</td>\n",
       "      <td>7</td>\n",
       "      <td>4</td>\n",
       "      <td>6</td>\n",
       "      <td>7</td>\n",
       "      <td>A1</td>\n",
       "    </tr>\n",
       "    <tr>\n",
       "      <td>8</td>\n",
       "      <td>X9</td>\n",
       "      <td>8</td>\n",
       "      <td>5</td>\n",
       "      <td>8</td>\n",
       "      <td>7</td>\n",
       "      <td>A2</td>\n",
       "    </tr>\n",
       "    <tr>\n",
       "      <td>9</td>\n",
       "      <td>X10</td>\n",
       "      <td>7</td>\n",
       "      <td>6</td>\n",
       "      <td>8</td>\n",
       "      <td>5</td>\n",
       "      <td>A2</td>\n",
       "    </tr>\n",
       "  </tbody>\n",
       "</table>\n",
       "</div>"
      ],
      "text/plain": [
       "  Teans  Wins in Season 2016  Wins in Season 2017  D1_Distance  D2_Distance  \\\n",
       "0    X1                    3                    5            3            4   \n",
       "1    X2                    3                    4            2            5   \n",
       "2    X3                    2                    8            7            2   \n",
       "3    X4                    2                    3            2            7   \n",
       "4    X5                    6                    2            3            8   \n",
       "5    X6                    6                    4            5            6   \n",
       "6    X7                    7                    3            5            8   \n",
       "7    X8                    7                    4            6            7   \n",
       "8    X9                    8                    5            8            7   \n",
       "9   X10                    7                    6            8            5   \n",
       "\n",
       "  Cluster  \n",
       "0      A1  \n",
       "1      A1  \n",
       "2      A2  \n",
       "3      A1  \n",
       "4      A1  \n",
       "5      A1  \n",
       "6      A1  \n",
       "7      A1  \n",
       "8      A2  \n",
       "9      A2  "
      ]
     },
     "execution_count": 327,
     "metadata": {},
     "output_type": "execute_result"
    }
   ],
   "source": [
    "df4"
   ]
  },
  {
   "cell_type": "code",
   "execution_count": 328,
   "metadata": {},
   "outputs": [],
   "source": [
    "f1= df1['Wins in Season 2016'].values"
   ]
  },
  {
   "cell_type": "code",
   "execution_count": 329,
   "metadata": {},
   "outputs": [],
   "source": [
    "f2=df1['Wins in Season 2017'].values"
   ]
  },
  {
   "cell_type": "code",
   "execution_count": 330,
   "metadata": {},
   "outputs": [
    {
     "data": {
      "text/plain": [
       "<matplotlib.collections.PathCollection at 0x1ce30dbba08>"
      ]
     },
     "execution_count": 330,
     "metadata": {},
     "output_type": "execute_result"
    },
    {
     "data": {
      "image/png": "[encoded data removed]",
      "text/plain": [
       "<Figure size 1152x648 with 1 Axes>"
      ]
     },
     "metadata": {},
     "output_type": "display_data"
    }
   ],
   "source": [
    "X = np.array(list(zip(f1, f2)))\n",
    "plt.scatter(f1, f2, c='black')"
   ]
  },
  {
   "cell_type": "code",
   "execution_count": 331,
   "metadata": {},
   "outputs": [],
   "source": [
    "k=2\n",
    "a1=(4,5)\n",
    "a2=(6,4)\n",
    "C = np.array(list(zip(a1, a2)), dtype=np.float32)"
   ]
  },
  {
   "cell_type": "code",
   "execution_count": 332,
   "metadata": {},
   "outputs": [],
   "source": [
    "def manhattan(a, b, ax=1):\n",
    "    return np.sum(np.abs(a-b), axis=ax)\n",
    "\n",
    "def euclidean(a, b, ax=1):\n",
    "    return np.sum((a-b)**2, axis=ax)\n",
    "#     return (a-b)\n",
    "\n",
    "def cosine(a,b, ax=1):\n",
    "    val = 1- np.dot(a,b) /(np.linalg.norm(a))*np.sum(np.linalg.norm(b))\n",
    "#     print(val)\n",
    "    return val\n",
    "\n",
    "def jaccard(a, b, ax=1):\n",
    "    return (1-np.sum(np.minimum(a,b),axis=ax)/np.sum(np.maximum(a,b),axis=ax))\n",
    "\n",
    "distMetric = {\"manhattan\":0, \"euclidean\":1, \"cosine\":2, \"jaccard\":3}\n",
    "metrics = {\n",
    "        distMetric['manhattan']: manhattan,\n",
    "        distMetric['euclidean']: euclidean,\n",
    "        distMetric['cosine']: cosine,\n",
    "        distMetric['jaccard']: jaccard\n",
    "    }\n",
    "def sse(X, clusters, C, metric=euclidean):\n",
    "    sseVal = 0\n",
    "    for i, centroid in enumerate(C):\n",
    "        sseVal += np.sum(metric(X[np.where(clusters==i)], centroid))\n",
    "    \n",
    "    return sseVal"
   ]
  },
  {
   "cell_type": "code",
   "execution_count": 333,
   "metadata": {},
   "outputs": [],
   "source": [
    "maxIT = 100\n",
    "\n",
    "def kmeans(X, C=C, k=2, metric=distMetric['manhattan'], max_iter= maxIT):\n",
    "    np.random.seed(99)\n",
    "    \n",
    "    if C is None:\n",
    "        C = X[np.random.choice(len(X), size=k, replace=False)]\n",
    "    # To store the value of centroids when it updates\n",
    "    C_old = np.ones(C.shape)\n",
    "    # Cluster Lables(0, 1, 2)\n",
    "    clusters = np.zeros(len(X))\n",
    "    # Error func. - Distance between new centroids and old centroids\n",
    "#     print(C)\n",
    "#     print(C_old)\n",
    "    \n",
    "    metrics = {\n",
    "        distMetric['manhattan']: manhattan,\n",
    "        distMetric['euclidean']: euclidean,\n",
    "        distMetric['cosine']: cosine,\n",
    "        distMetric['jaccard']: jaccard\n",
    "    }\n",
    "    \n",
    "    error = metrics[metric](C, C_old, None)\n",
    "    # Loop will run till the error becomes zero\n",
    "#     print(error)\n",
    "    error = np.array(error)\n",
    "    count = 1\n",
    "    prev_sse = 0\n",
    "    curr_sse = 0\n",
    "    while error.any() != 0:\n",
    "        # Assigning each value to its closest cluster\n",
    "        for i in range(len(X)):\n",
    "#             print(X[i])\n",
    "#             print(C)\n",
    "            distances = metrics[metric](X[i], C)\n",
    "#             print(distances)\n",
    "            cluster = np.argmin([distances])\n",
    "#             print(cluster)\n",
    "            clusters[i] = cluster\n",
    "        # Storing the old centroid values\n",
    "        C_old = deepcopy(C)\n",
    "        curr_sse = sse(X, clusters, C)\n",
    "        print('Iteration: {}'.format(count))\n",
    "        print('Current SSE: {}'.format(curr_sse))\n",
    "        print('Previous SSE: {}'.format(prev_sse))\n",
    "        # Finding the new centroids by taking the average value\n",
    "        for i in range(k):\n",
    "            points = [X[j] for j in range(len(X)) if clusters[j] == i]\n",
    "#             print(points)\n",
    "            C[i] = np.mean(points, axis=0) \n",
    "#         print(C)\n",
    "        error_old = deepcopy(error)\n",
    "        error = metrics[metric](C, C_old, None)\n",
    "        if count>0:\n",
    "            if np.sum(error_old) == np.sum(error):\n",
    "                break\n",
    "        if count>max_iter+1:\n",
    "            break\n",
    "        count = count+1\n",
    "        prev_sse = curr_sse\n",
    "    return clusters, count"
   ]
  },
  {
   "cell_type": "code",
   "execution_count": 334,
   "metadata": {},
   "outputs": [
    {
     "name": "stdout",
     "output_type": "stream",
     "text": [
      "Iteration: 1\n",
      "Current SSE: 58.0\n",
      "Previous SSE: 0\n",
      "Iteration: 2\n",
      "Current SSE: 54.09523809523847\n",
      "Previous SSE: 58.0\n",
      "3\n"
     ]
    },
    {
     "data": {
      "image/png": "[encoded data removed]",
      "text/plain": [
       "<Figure size 1152x648 with 1 Axes>"
      ]
     },
     "metadata": {},
     "output_type": "display_data"
    }
   ],
   "source": [
    "# Plotting along with the Centroids\n",
    "plt.scatter(f1, f2, c='#050505')\n",
    "plt.scatter(a1, a2, marker='*', s=200, c='g')\n",
    "\n",
    "clusters, count = kmeans(X, C=C, k=2, metric=distMetric['manhattan'], max_iter= 100)\n",
    "print(count)"
   ]
  },
  {
   "cell_type": "code",
   "execution_count": 335,
   "metadata": {},
   "outputs": [
    {
     "name": "stdout",
     "output_type": "stream",
     "text": [
      "[0. 1. 0. 1. 1. 1. 1. 1. 1. 0.]\n"
     ]
    },
    {
     "data": {
      "text/plain": [
       "<matplotlib.collections.PathCollection at 0x1ce317254c8>"
      ]
     },
     "execution_count": 335,
     "metadata": {},
     "output_type": "execute_result"
    },
    {
     "data": {
      "image/png": "[encoded data removed]",
      "text/plain": [
       "<Figure size 1152x648 with 1 Axes>"
      ]
     },
     "metadata": {},
     "output_type": "display_data"
    }
   ],
   "source": [
    "k=2\n",
    "print(clusters)\n",
    "colors = ['r', 'g']\n",
    "fig, ax = plt.subplots()\n",
    "for i in range(k):\n",
    "        points = np.array([X[j] for j in range(len(X)) if clusters[j] == i])\n",
    "#         print(points)\n",
    "        ax.scatter(points[:, 0], points[:, 1], c=colors[i])\n",
    "ax.scatter(C[:, 0], C[:, 1], marker='*', s=200, c='#050505')"
   ]
  },
  {
   "cell_type": "code",
   "execution_count": 336,
   "metadata": {},
   "outputs": [
    {
     "name": "stdout",
     "output_type": "stream",
     "text": [
      "Iteration: 1\n",
      "Current SSE: 57.0\n",
      "Previous SSE: 0\n",
      "Iteration: 2\n",
      "Current SSE: 43.96875\n",
      "Previous SSE: 57.0\n",
      "Iteration: 3\n",
      "Current SSE: 27.833333333333485\n",
      "Previous SSE: 43.96875\n"
     ]
    },
    {
     "data": {
      "text/plain": [
       "<matplotlib.collections.PathCollection at 0x1ce2fcdd048>"
      ]
     },
     "execution_count": 336,
     "metadata": {},
     "output_type": "execute_result"
    },
    {
     "data": {
      "image/png": "[encoded data removed]",
      "text/plain": [
       "<Figure size 1152x648 with 1 Axes>"
      ]
     },
     "metadata": {},
     "output_type": "display_data"
    },
    {
     "data": {
      "image/png": "[encoded data removed]",
      "text/plain": [
       "<Figure size 1152x648 with 1 Axes>"
      ]
     },
     "metadata": {},
     "output_type": "display_data"
    }
   ],
   "source": [
    "# Number of clusters\n",
    "k = 2\n",
    "# X coordinates of random centroids\n",
    "b1 = [4,5]\n",
    "# Y coordinates of random centroids\n",
    "b2 = [6,4]\n",
    "C = np.array(list(zip(b1, b2)), dtype=np.float32)\n",
    "# Plotting along with the Centroids\n",
    "plt.scatter(f1, f2, c='#050505')\n",
    "plt.scatter(b1, b2, marker='*', s=200, c='g')\n",
    "\n",
    "clusters,count = kmeans(X, C=C, k=2, metric=distMetric['euclidean'])\n",
    "# print(clusters)\n",
    "\n",
    "colors = ['r', 'g']\n",
    "fig, ax = plt.subplots()\n",
    "for i in range(k):\n",
    "        points = np.array([X[j] for j in range(len(X)) if clusters[j] == i])\n",
    "#         print(points)\n",
    "        ax.scatter(points[:, 0], points[:, 1], c=colors[i])\n",
    "ax.scatter(C[:, 0], C[:, 1], marker='*', s=200, c='#050505')"
   ]
  },
  {
   "cell_type": "code",
   "execution_count": 337,
   "metadata": {},
   "outputs": [
    {
     "name": "stdout",
     "output_type": "stream",
     "text": [
      "Iteration: 1\n",
      "Current SSE: 59.0\n",
      "Previous SSE: 0\n",
      "Iteration: 2\n",
      "Current SSE: 27.833333333333485\n",
      "Previous SSE: 59.0\n"
     ]
    },
    {
     "data": {
      "text/plain": [
       "<matplotlib.collections.PathCollection at 0x1ce2c4a0e88>"
      ]
     },
     "execution_count": 337,
     "metadata": {},
     "output_type": "execute_result"
    },
    {
     "data": {
      "image/png": "[encoded data removed]",
      "text/plain": [
       "<Figure size 1152x648 with 1 Axes>"
      ]
     },
     "metadata": {},
     "output_type": "display_data"
    },
    {
     "data": {
      "image/png": "[encoded data removed]",
      "text/plain": [
       "<Figure size 1152x648 with 1 Axes>"
      ]
     },
     "metadata": {},
     "output_type": "display_data"
    }
   ],
   "source": [
    "# Number of clusters\n",
    "k = 2\n",
    "# X coordinates of random centroids\n",
    "c1 = [3,8]\n",
    "# Y coordinates of random centroids\n",
    "c2 = [3,3]\n",
    "C = np.array(list(zip(c1, c2)), dtype=np.float32)\n",
    "# Plotting along with the Centroids\n",
    "plt.scatter(f1, f2, c='#050505')\n",
    "plt.scatter(c1, c2, marker='*', s=200, c='g')\n",
    "\n",
    "clusters,count = kmeans(X, C=C, k=2, metric=distMetric['manhattan'])\n",
    "\n",
    "colors = ['r', 'g']\n",
    "fig, ax = plt.subplots()\n",
    "for i in range(k):\n",
    "        points = np.array([X[j] for j in range(len(X)) if clusters[j] == i])\n",
    "#         print(points)\n",
    "        ax.scatter(points[:, 0], points[:, 1], c=colors[i])\n",
    "ax.scatter(C[:, 0], C[:, 1], marker='*', s=200, c='#050505')"
   ]
  },
  {
   "cell_type": "code",
   "execution_count": 338,
   "metadata": {},
   "outputs": [
    {
     "name": "stdout",
     "output_type": "stream",
     "text": [
      "Iteration: 1\n",
      "Current SSE: 116.0\n",
      "Previous SSE: 0\n",
      "Iteration: 2\n",
      "Current SSE: 57.9047619047621\n",
      "Previous SSE: 116.0\n"
     ]
    },
    {
     "data": {
      "text/plain": [
       "<matplotlib.collections.PathCollection at 0x1ce2d20e708>"
      ]
     },
     "execution_count": 338,
     "metadata": {},
     "output_type": "execute_result"
    },
    {
     "data": {
      "image/png": "[encoded data removed]",
      "text/plain": [
       "<Figure size 1152x648 with 1 Axes>"
      ]
     },
     "metadata": {},
     "output_type": "display_data"
    },
    {
     "data": {
      "image/png": "[encoded data removed]",
      "text/plain": [
       "<Figure size 1152x648 with 1 Axes>"
      ]
     },
     "metadata": {},
     "output_type": "display_data"
    }
   ],
   "source": [
    "# Number of clusters\n",
    "k = 2\n",
    "# X coordinates of random centroids\n",
    "d1 = [3,4]\n",
    "# Y coordinates of random centroids\n",
    "d2 = [2,8]\n",
    "C = np.array(list(zip(d1, d2)), dtype=np.float32)\n",
    "# Plotting along with the Centroids\n",
    "plt.scatter(f1, f2, c='#050505')\n",
    "plt.scatter(d1, d2, marker='*', s=200, c='g')\n",
    "\n",
    "clusters,count = kmeans(X, C=C, k=2, metric=distMetric['manhattan'])\n",
    "\n",
    "colors = ['r', 'g', 'b', 'y', 'c', 'm']\n",
    "fig, ax = plt.subplots()\n",
    "for i in range(k):\n",
    "        points = np.array([X[j] for j in range(len(X)) if clusters[j] == i])\n",
    "#         print(points)\n",
    "        ax.scatter(points[:, 0], points[:, 1], c=colors[i])\n",
    "ax.scatter(C[:, 0], C[:, 1], marker='*', s=200, c='#050505')"
   ]
  },
  {
   "cell_type": "markdown",
   "metadata": {},
   "source": [
    "# Iris Data"
   ]
  },
  {
   "cell_type": "code",
   "execution_count": 339,
   "metadata": {},
   "outputs": [],
   "source": [
    "df = pd.read_csv(r'C:\\Users\\redwi\\Downloads\\Spring 20\\CAP ML\\hw5\\iris.data', sep=',')\n",
    "attributes = [\"sepal_length\", \"sepal_width\", \"petal_length\", \"petal_width\", \"class\"]\n",
    "df.columns = attributes"
   ]
  },
  {
   "cell_type": "code",
   "execution_count": 340,
   "metadata": {},
   "outputs": [
    {
     "data": {
      "text/html": [
       "<div>\n",
       "<style scoped>\n",
       "    .dataframe tbody tr th:only-of-type {\n",
       "        vertical-align: middle;\n",
       "    }\n",
       "\n",
       "    .dataframe tbody tr th {\n",
       "        vertical-align: top;\n",
       "    }\n",
       "\n",
       "    .dataframe thead th {\n",
       "        text-align: right;\n",
       "    }\n",
       "</style>\n",
       "<table border=\"1\" class=\"dataframe\">\n",
       "  <thead>\n",
       "    <tr style=\"text-align: right;\">\n",
       "      <th></th>\n",
       "      <th>sepal_length</th>\n",
       "      <th>sepal_width</th>\n",
       "      <th>petal_length</th>\n",
       "      <th>petal_width</th>\n",
       "      <th>class</th>\n",
       "    </tr>\n",
       "  </thead>\n",
       "  <tbody>\n",
       "    <tr>\n",
       "      <td>0</td>\n",
       "      <td>4.9</td>\n",
       "      <td>3.0</td>\n",
       "      <td>1.4</td>\n",
       "      <td>0.2</td>\n",
       "      <td>0</td>\n",
       "    </tr>\n",
       "    <tr>\n",
       "      <td>1</td>\n",
       "      <td>4.7</td>\n",
       "      <td>3.2</td>\n",
       "      <td>1.3</td>\n",
       "      <td>0.2</td>\n",
       "      <td>0</td>\n",
       "    </tr>\n",
       "    <tr>\n",
       "      <td>2</td>\n",
       "      <td>4.6</td>\n",
       "      <td>3.1</td>\n",
       "      <td>1.5</td>\n",
       "      <td>0.2</td>\n",
       "      <td>0</td>\n",
       "    </tr>\n",
       "    <tr>\n",
       "      <td>3</td>\n",
       "      <td>5.0</td>\n",
       "      <td>3.6</td>\n",
       "      <td>1.4</td>\n",
       "      <td>0.2</td>\n",
       "      <td>0</td>\n",
       "    </tr>\n",
       "    <tr>\n",
       "      <td>4</td>\n",
       "      <td>5.4</td>\n",
       "      <td>3.9</td>\n",
       "      <td>1.7</td>\n",
       "      <td>0.4</td>\n",
       "      <td>0</td>\n",
       "    </tr>\n",
       "  </tbody>\n",
       "</table>\n",
       "</div>"
      ],
      "text/plain": [
       "   sepal_length  sepal_width  petal_length  petal_width  class\n",
       "0           4.9          3.0           1.4          0.2      0\n",
       "1           4.7          3.2           1.3          0.2      0\n",
       "2           4.6          3.1           1.5          0.2      0\n",
       "3           5.0          3.6           1.4          0.2      0\n",
       "4           5.4          3.9           1.7          0.4      0"
      ]
     },
     "execution_count": 340,
     "metadata": {},
     "output_type": "execute_result"
    }
   ],
   "source": [
    "# Converting the predicted label \"class\" to numerical values\n",
    "df['class'] = pd.Categorical(df['class'])\n",
    "df['class'] = df['class'].cat.codes\n",
    "df.head()"
   ]
  },
  {
   "cell_type": "code",
   "execution_count": 341,
   "metadata": {},
   "outputs": [],
   "source": [
    "X = df[df.columns[:-1]].values"
   ]
  },
  {
   "cell_type": "code",
   "execution_count": 342,
   "metadata": {},
   "outputs": [
    {
     "name": "stdout",
     "output_type": "stream",
     "text": [
      "Iteration: 1\n",
      "Current SSE: 122.05999999999997\n",
      "Previous SSE: 0\n",
      "Iteration: 2\n",
      "Current SSE: 79.73793139920596\n",
      "Previous SSE: 122.05999999999997\n",
      "Iteration: 3\n",
      "Current SSE: 78.91880877308478\n",
      "Previous SSE: 79.73793139920596\n",
      "4\n"
     ]
    }
   ],
   "source": [
    "clusters, count = kmeans(X, C=None, k=3, metric=distMetric['euclidean'], max_iter= maxIT)\n",
    "print(count)"
   ]
  },
  {
   "cell_type": "code",
   "execution_count": 343,
   "metadata": {},
   "outputs": [],
   "source": [
    "def predict(clusters, y, k=3):\n",
    "    indexes = []\n",
    "    for i in range(k):\n",
    "        indexes.append(np.where(clusters == i))\n",
    "    for cluster in indexes:\n",
    "        mode = int(stats.mode(y[cluster])[0])\n",
    "        clusters[cluster] = mode\n",
    "        \n",
    "    return clusters"
   ]
  },
  {
   "cell_type": "code",
   "execution_count": 344,
   "metadata": {},
   "outputs": [
    {
     "data": {
      "text/plain": [
       "0.8926174496644296"
      ]
     },
     "execution_count": 344,
     "metadata": {},
     "output_type": "execute_result"
    }
   ],
   "source": [
    "from sklearn import metrics\n",
    "pred_val = predict(clusters, df['class'].values)\n",
    "metrics.accuracy_score(df['class'].values, pred_val)"
   ]
  },
  {
   "cell_type": "code",
   "execution_count": 345,
   "metadata": {},
   "outputs": [
    {
     "data": {
      "text/plain": [
       "<matplotlib.collections.PathCollection at 0x1ce2f5e5248>"
      ]
     },
     "execution_count": 345,
     "metadata": {},
     "output_type": "execute_result"
    },
    {
     "data": {
      "image/png": "[encoded data removed]",
      "text/plain": [
       "<Figure size 1152x648 with 1 Axes>"
      ]
     },
     "metadata": {},
     "output_type": "display_data"
    }
   ],
   "source": [
    "plt.scatter(X[:, 0], X[:, 1], c='black')\n",
    "# plt.scatter(X[:, 1], X[:, 2], c='black')"
   ]
  },
  {
   "cell_type": "code",
   "execution_count": 346,
   "metadata": {},
   "outputs": [
    {
     "data": {
      "image/png": "[encoded data removed]",
      "text/plain": [
       "<Figure size 1152x648 with 1 Axes>"
      ]
     },
     "metadata": {},
     "output_type": "display_data"
    }
   ],
   "source": [
    "colors = ['r', 'g', 'b', 'y', 'c', 'm']\n",
    "fig, ax = plt.subplots()\n",
    "for i in range(3):\n",
    "        points = np.array([X[j] for j in range(len(X)) if clusters[j] == i])\n",
    "        ax.scatter(points[:, 0], points[:, 1], c=colors[i])\n",
    "#         ax.scatter(points[:, 1], points[:, 2], c=colors[i])\n",
    "# ax.scatter(C, marker='*', s=200, c='#050505')\n",
    "# print(len(points))"
   ]
  },
  {
   "cell_type": "code",
   "execution_count": 347,
   "metadata": {},
   "outputs": [
    {
     "name": "stdout",
     "output_type": "stream",
     "text": [
      "Iteration: 1\n",
      "Current SSE: 123.13999999999996\n",
      "Previous SSE: 0\n",
      "Iteration: 2\n",
      "Current SSE: 80.18347776360544\n",
      "Previous SSE: 123.13999999999996\n",
      "Iteration: 3\n",
      "Current SSE: 79.35680571078552\n",
      "Previous SSE: 80.18347776360544\n",
      "Iteration: 4\n",
      "Current SSE: 79.16471709226985\n",
      "Previous SSE: 79.35680571078552\n",
      "5\n"
     ]
    }
   ],
   "source": [
    "clusters,count = kmeans(X, C=None, k=3, metric=distMetric['jaccard'], max_iter= maxIT)\n",
    "print(count)"
   ]
  },
  {
   "cell_type": "code",
   "execution_count": 348,
   "metadata": {},
   "outputs": [
    {
     "name": "stdout",
     "output_type": "stream",
     "text": [
      "0.8791946308724832\n"
     ]
    }
   ],
   "source": [
    "pred_val = predict(clusters, df['class'].values)\n",
    "accurcy = metrics.accuracy_score(df['class'].values, clusters)\n",
    "print(accurcy)"
   ]
  },
  {
   "cell_type": "code",
   "execution_count": 349,
   "metadata": {},
   "outputs": [
    {
     "data": {
      "image/png": "[encoded data removed]",
      "text/plain": [
       "<Figure size 1152x648 with 1 Axes>"
      ]
     },
     "metadata": {},
     "output_type": "display_data"
    }
   ],
   "source": [
    "colors = ['r', 'g', 'b', 'y', 'c', 'm']\n",
    "fig, ax = plt.subplots()\n",
    "for i in range(3):\n",
    "        points = np.array([X[j] for j in range(len(X)) if clusters[j] == i])\n",
    "        ax.scatter(points[:, 0], points[:, 1], c=colors[i])\n",
    "#         ax.scatter(points[:, 1], points[:, 2], c=colors[i])\n",
    "# ax.scatter(C, marker='*', s=200, c='#050505')\n",
    "# print(len(points))"
   ]
  },
  {
   "cell_type": "code",
   "execution_count": null,
   "metadata": {},
   "outputs": [],
   "source": []
  }
 ],
 "metadata": {
  "kernelspec": {
   "display_name": "Python 3",
   "language": "python",
   "name": "python3"
  },
  "language_info": {
   "codemirror_mode": {
    "name": "ipython",
    "version": 3
   },
   "file_extension": ".py",
   "mimetype": "text/x-python",
   "name": "python",
   "nbconvert_exporter": "python",
   "pygments_lexer": "ipython3",
   "version": "3.7.4"
  }
 },
 "nbformat": 4,
 "nbformat_minor": 2
}
